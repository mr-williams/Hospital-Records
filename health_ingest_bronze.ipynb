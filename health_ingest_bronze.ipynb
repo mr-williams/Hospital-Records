{
 "cells": [
  {
   "cell_type": "code",
   "execution_count": 1,
   "metadata": {},
   "outputs": [],
   "source": [
    "from pyspark.sql.functions import current_timestamp, col\n",
    "from pyspark.sql.types import StructField, StructType, StringType, IntegerType, DoubleType\n",
    "from pyspark.sql import SparkSession\n",
    "from delta.tables import *\n",
    "from delta import *\n",
    "from delta import configure_spark_with_delta_pip"
   ]
  },
  {
   "cell_type": "code",
   "execution_count": 2,
   "metadata": {},
   "outputs": [],
   "source": [
    "builder = SparkSession \\\n",
    "        .builder \\\n",
    "        .appName('healthcare_ingest')\\\n",
    "        .master('local')\\\n",
    "        .config(\"spark.driver.memory\",\"2g\")\\\n",
    "        .config(\"spark.sql.extensions\", \"io.delta.sql.DeltaSparkSessionExtension\")\\\n",
    "        .config(\"spark.sql.catalog.spark_catalog\", \"org.apache.spark.sql.delta.catalog.DeltaCatalog\")\n",
    "        \n",
    "spark = configure_spark_with_delta_pip(builder).getOrCreate()\n"
   ]
  },
  {
   "cell_type": "code",
   "execution_count": 3,
   "metadata": {},
   "outputs": [
    {
     "data": {
      "text/html": [
       "\n",
       "            <div>\n",
       "                <p><b>SparkSession - in-memory</b></p>\n",
       "                \n",
       "        <div>\n",
       "            <p><b>SparkContext</b></p>\n",
       "\n",
       "            <p><a href=\"http://LAPTOP-HVRT9FOB:4040\">Spark UI</a></p>\n",
       "\n",
       "            <dl>\n",
       "              <dt>Version</dt>\n",
       "                <dd><code>v3.5.4</code></dd>\n",
       "              <dt>Master</dt>\n",
       "                <dd><code>local</code></dd>\n",
       "              <dt>AppName</dt>\n",
       "                <dd><code>healthcare_ingest</code></dd>\n",
       "            </dl>\n",
       "        </div>\n",
       "        \n",
       "            </div>\n",
       "        "
      ],
      "text/plain": [
       "<pyspark.sql.session.SparkSession at 0x20a6e906ed0>"
      ]
     },
     "execution_count": 3,
     "metadata": {},
     "output_type": "execute_result"
    }
   ],
   "source": [
    "spark"
   ]
  },
  {
   "cell_type": "code",
   "execution_count": 7,
   "metadata": {},
   "outputs": [],
   "source": [
    "landing_folder = \"landing_zone\""
   ]
  },
  {
   "cell_type": "code",
   "execution_count": 8,
   "metadata": {},
   "outputs": [],
   "source": [
    "patients = spark.read \\\n",
    "            .option(\"inferschema\", \"True\") \\\n",
    "            .option(\"header\", \"True\") \\\n",
    "            .csv(f\"{landing_folder}\\\\health_records\\\\patients.csv\")"
   ]
  },
  {
   "cell_type": "code",
   "execution_count": 9,
   "metadata": {},
   "outputs": [
    {
     "name": "stdout",
     "output_type": "stream",
     "text": [
      "root\n",
      " |-- Id: string (nullable = true)\n",
      " |-- BIRTHDATE: date (nullable = true)\n",
      " |-- DEATHDATE: date (nullable = true)\n",
      " |-- PREFIX: string (nullable = true)\n",
      " |-- FIRST: string (nullable = true)\n",
      " |-- LAST: string (nullable = true)\n",
      " |-- SUFFIX: string (nullable = true)\n",
      " |-- MAIDEN: string (nullable = true)\n",
      " |-- MARITAL: string (nullable = true)\n",
      " |-- RACE: string (nullable = true)\n",
      " |-- ETHNICITY: string (nullable = true)\n",
      " |-- GENDER: string (nullable = true)\n",
      " |-- BIRTHPLACE: string (nullable = true)\n",
      " |-- ADDRESS: string (nullable = true)\n",
      " |-- CITY: string (nullable = true)\n",
      " |-- STATE: string (nullable = true)\n",
      " |-- COUNTY: string (nullable = true)\n",
      " |-- ZIP: integer (nullable = true)\n",
      " |-- LAT: double (nullable = true)\n",
      " |-- LON: double (nullable = true)\n",
      "\n"
     ]
    }
   ],
   "source": [
    "patients.printSchema()"
   ]
  },
  {
   "cell_type": "code",
   "execution_count": 40,
   "metadata": {},
   "outputs": [],
   "source": [
    "patients_renamed = patients.withColumnRenamed(\"Id\", \"patients_id\")"
   ]
  },
  {
   "cell_type": "code",
   "execution_count": 42,
   "metadata": {},
   "outputs": [],
   "source": [
    "procedure = spark.read \\\n",
    "            .option(\"inferschema\", \"True\") \\\n",
    "            .option(\"header\", \"True\") \\\n",
    "            .csv(f\"{landing_folder}\\\\health_records\\\\procedures.csv\")"
   ]
  },
  {
   "cell_type": "code",
   "execution_count": 43,
   "metadata": {},
   "outputs": [
    {
     "name": "stdout",
     "output_type": "stream",
     "text": [
      "root\n",
      " |-- START: timestamp (nullable = true)\n",
      " |-- STOP: timestamp (nullable = true)\n",
      " |-- PATIENT: string (nullable = true)\n",
      " |-- ENCOUNTER: string (nullable = true)\n",
      " |-- CODE: long (nullable = true)\n",
      " |-- DESCRIPTION: string (nullable = true)\n",
      " |-- BASE_COST: integer (nullable = true)\n",
      " |-- REASONCODE: long (nullable = true)\n",
      " |-- REASONDESCRIPTION: string (nullable = true)\n",
      "\n"
     ]
    }
   ],
   "source": [
    "procedure.printSchema()"
   ]
  },
  {
   "cell_type": "code",
   "execution_count": 44,
   "metadata": {},
   "outputs": [],
   "source": [
    "procedure_renamed = procedure.withColumnRenamed(\"PATIENT\", \"PATIENT_ID\") \\\n",
    "                             .withColumnRenamed(\"ENCOUNTER\", \"ENCOUNTER_ID\")"
   ]
  },
  {
   "cell_type": "code",
   "execution_count": 47,
   "metadata": {},
   "outputs": [],
   "source": [
    "encounters = spark.read \\\n",
    "            .option(\"inferschema\", \"True\") \\\n",
    "            .option(\"header\", \"True\") \\\n",
    "            .csv(f\"{landing_folder}\\\\health_records\\\\encounters.csv\")"
   ]
  },
  {
   "cell_type": "code",
   "execution_count": 50,
   "metadata": {},
   "outputs": [
    {
     "name": "stdout",
     "output_type": "stream",
     "text": [
      "root\n",
      " |-- Id: string (nullable = true)\n",
      " |-- START: timestamp (nullable = true)\n",
      " |-- STOP: timestamp (nullable = true)\n",
      " |-- PATIENT: string (nullable = true)\n",
      " |-- ORGANIZATION: string (nullable = true)\n",
      " |-- PAYER: string (nullable = true)\n",
      " |-- ENCOUNTERCLASS: string (nullable = true)\n",
      " |-- CODE: integer (nullable = true)\n",
      " |-- DESCRIPTION: string (nullable = true)\n",
      " |-- BASE_ENCOUNTER_COST: double (nullable = true)\n",
      " |-- TOTAL_CLAIM_COST: double (nullable = true)\n",
      " |-- PAYER_COVERAGE: double (nullable = true)\n",
      " |-- REASONCODE: long (nullable = true)\n",
      " |-- REASONDESCRIPTION: string (nullable = true)\n",
      "\n"
     ]
    }
   ],
   "source": [
    "encounters.printSchema()"
   ]
  },
  {
   "cell_type": "code",
   "execution_count": 51,
   "metadata": {},
   "outputs": [],
   "source": [
    "encounters_renamed = encounters.withColumnRenamed(\"Id\", \"encounters_id\") \\\n",
    "                               .withColumnRenamed(\"PATIENT\", \"PATIENT_ID\")"
   ]
  },
  {
   "cell_type": "code",
   "execution_count": 52,
   "metadata": {},
   "outputs": [],
   "source": [
    "payers = spark.read \\\n",
    "            .option(\"inferschema\", \"True\") \\\n",
    "            .option(\"header\", \"True\") \\\n",
    "            .csv(f\"{landing_folder}\\\\health_records\\\\payers.csv\")"
   ]
  },
  {
   "cell_type": "code",
   "execution_count": 53,
   "metadata": {},
   "outputs": [
    {
     "name": "stdout",
     "output_type": "stream",
     "text": [
      "root\n",
      " |-- Id: string (nullable = true)\n",
      " |-- NAME: string (nullable = true)\n",
      " |-- ADDRESS: string (nullable = true)\n",
      " |-- CITY: string (nullable = true)\n",
      " |-- STATE_HEADQUARTERED: string (nullable = true)\n",
      " |-- ZIP: integer (nullable = true)\n",
      " |-- PHONE: string (nullable = true)\n",
      "\n"
     ]
    }
   ],
   "source": [
    "payers.printSchema()"
   ]
  },
  {
   "cell_type": "code",
   "execution_count": 54,
   "metadata": {},
   "outputs": [],
   "source": [
    "payers_renamed = payers.withColumnRenamed(\"Id\", \"payers_id\") \\\n",
    "                       .withColumnRenamed(\"NAME\", \"PAYER_NAME\")"
   ]
  },
  {
   "cell_type": "code",
   "execution_count": 57,
   "metadata": {},
   "outputs": [],
   "source": [
    "organizations = spark.read \\\n",
    "            .option(\"inferschema\", \"True\") \\\n",
    "            .option(\"header\", \"True\") \\\n",
    "            .csv(f\"{landing_folder}\\\\health_records\\\\organizations.csv\")"
   ]
  },
  {
   "cell_type": "code",
   "execution_count": 58,
   "metadata": {},
   "outputs": [
    {
     "name": "stdout",
     "output_type": "stream",
     "text": [
      "root\n",
      " |-- Id: string (nullable = true)\n",
      " |-- NAME: string (nullable = true)\n",
      " |-- ADDRESS: string (nullable = true)\n",
      " |-- CITY: string (nullable = true)\n",
      " |-- STATE: string (nullable = true)\n",
      " |-- ZIP: integer (nullable = true)\n",
      " |-- LAT: double (nullable = true)\n",
      " |-- LON: double (nullable = true)\n",
      "\n"
     ]
    }
   ],
   "source": [
    "organizations.printSchema()"
   ]
  },
  {
   "cell_type": "code",
   "execution_count": 59,
   "metadata": {},
   "outputs": [],
   "source": [
    "organizations_renamed = organizations.withColumnRenamed(\"Id\", \"organizations_id\")"
   ]
  },
  {
   "cell_type": "code",
   "execution_count": 62,
   "metadata": {},
   "outputs": [],
   "source": [
    "description = spark.read \\\n",
    "            .option(\"inferschema\", \"True\") \\\n",
    "            .option(\"header\", \"True\") \\\n",
    "            .csv(f\"{landing_folder}\\\\health_records\\\\data_dictionary.csv\")"
   ]
  },
  {
   "cell_type": "code",
   "execution_count": 63,
   "metadata": {},
   "outputs": [
    {
     "name": "stdout",
     "output_type": "stream",
     "text": [
      "root\n",
      " |-- Table: string (nullable = true)\n",
      " |-- Field: string (nullable = true)\n",
      " |-- Description: string (nullable = true)\n",
      "\n"
     ]
    }
   ],
   "source": [
    "description.printSchema()"
   ]
  },
  {
   "cell_type": "code",
   "execution_count": 75,
   "metadata": {},
   "outputs": [
    {
     "name": "stdout",
     "output_type": "stream",
     "text": [
      "table created\n"
     ]
    }
   ],
   "source": [
    "try:\n",
    "    patients_renamed.write.format(\"delta\").mode(\"overwrite\").save(f\"{bronze_folder}\\\\healthcare_delta\\\\patients\")\n",
    "    print(\"table created\")\n",
    "except Exception as e:\n",
    "    print(\"Table creation failed\")\n",
    "    print (e)\n"
   ]
  },
  {
   "cell_type": "code",
   "execution_count": 69,
   "metadata": {},
   "outputs": [],
   "source": [
    "\n",
    "procedure_renamed.write.format(\"delta\").mode(\"overwrite\").save(f\"{bronze_folder}\\\\healthcare_delta\\\\procedure\")"
   ]
  },
  {
   "cell_type": "code",
   "execution_count": 70,
   "metadata": {},
   "outputs": [],
   "source": [
    "encounters_renamed.write.format(\"delta\").mode(\"overwrite\").save(f\"{bronze_folder}\\\\healthcare_delta\\\\encounters\")"
   ]
  },
  {
   "cell_type": "code",
   "execution_count": 71,
   "metadata": {},
   "outputs": [],
   "source": [
    "payers_renamed.write.format(\"delta\").mode(\"overwrite\").save(f\"{bronze_folder}\\\\healthcare_delta\\\\payers\")"
   ]
  },
  {
   "cell_type": "code",
   "execution_count": 72,
   "metadata": {},
   "outputs": [],
   "source": [
    "organizations_renamed.write.format(\"delta\").mode(\"overwrite\").save(f\"{bronze_folder}\\\\healthcare_delta\\\\organizations\")"
   ]
  },
  {
   "cell_type": "code",
   "execution_count": 73,
   "metadata": {},
   "outputs": [],
   "source": [
    "description.write.format(\"delta\").mode(\"overwrite\").save(f\"{bronze_folder}\\\\healthcare_delta\\\\description\")"
   ]
  },
  {
   "cell_type": "code",
   "execution_count": 74,
   "metadata": {},
   "outputs": [
    {
     "data": {
      "text/plain": [
       "<bound method SparkSession.stop of <pyspark.sql.session.SparkSession object at 0x000002499A201750>>"
      ]
     },
     "execution_count": 74,
     "metadata": {},
     "output_type": "execute_result"
    }
   ],
   "source": [
    "spark.stop"
   ]
  }
 ],
 "metadata": {
  "kernelspec": {
   "display_name": ".venv",
   "language": "python",
   "name": "python3"
  },
  "language_info": {
   "codemirror_mode": {
    "name": "ipython",
    "version": 3
   },
   "file_extension": ".py",
   "mimetype": "text/x-python",
   "name": "python",
   "nbconvert_exporter": "python",
   "pygments_lexer": "ipython3",
   "version": "3.11.0"
  }
 },
 "nbformat": 4,
 "nbformat_minor": 2
}
