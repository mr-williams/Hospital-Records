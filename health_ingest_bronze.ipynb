{
 "cells": [
  {
   "cell_type": "code",
   "execution_count": 2,
   "metadata": {},
   "outputs": [
    {
     "name": "stdout",
     "output_type": "stream",
     "text": [
      "Requirement already satisfied: pyspark==3.5.4 in d:\\data\\datasets\\hospital-records\\.venv\\lib\\site-packages (3.5.4)\n",
      "Requirement already satisfied: py4j==0.10.9.7 in d:\\data\\datasets\\hospital-records\\.venv\\lib\\site-packages (from pyspark==3.5.4) (0.10.9.7)\n",
      "Note: you may need to restart the kernel to use updated packages.\n"
     ]
    }
   ],
   "source": [
    "pip install pyspark==3.5.4"
   ]
  },
  {
   "cell_type": "code",
   "execution_count": 1,
   "metadata": {},
   "outputs": [],
   "source": [
    "from pyspark.sql.functions import current_timestamp, col\n",
    "from pyspark.sql.types import StructField, StructType, StringType, IntegerType, DoubleType\n",
    "from pyspark.sql import SparkSession\n",
    "from delta.tables import *\n",
    "from delta import *\n",
    "from delta import configure_spark_with_delta_pip"
   ]
  },
  {
   "cell_type": "code",
   "execution_count": 2,
   "metadata": {},
   "outputs": [],
   "source": [
    "builder = SparkSession \\\n",
    "        .builder \\\n",
    "        .appName('healthcare_ingest')\\\n",
    "        .master('local')\\\n",
    "        .config(\"spark.driver.memory\",\"2g\")\\\n",
    "        .config(\"spark.sql.extensions\", \"io.delta.sql.DeltaSparkSessionExtension\")\\\n",
    "        .config(\"spark.sql.catalog.spark_catalog\", \"org.apache.spark.sql.delta.catalog.DeltaCatalog\")\n",
    "        \n",
    "spark = configure_spark_with_delta_pip(builder).getOrCreate()\n"
   ]
  },
  {
   "cell_type": "code",
   "execution_count": 3,
   "metadata": {},
   "outputs": [
    {
     "data": {
      "text/html": [
       "\n",
       "            <div>\n",
       "                <p><b>SparkSession - in-memory</b></p>\n",
       "                \n",
       "        <div>\n",
       "            <p><b>SparkContext</b></p>\n",
       "\n",
       "            <p><a href=\"http://LAPTOP-HVRT9FOB:4040\">Spark UI</a></p>\n",
       "\n",
       "            <dl>\n",
       "              <dt>Version</dt>\n",
       "                <dd><code>v3.5.4</code></dd>\n",
       "              <dt>Master</dt>\n",
       "                <dd><code>local</code></dd>\n",
       "              <dt>AppName</dt>\n",
       "                <dd><code>healthcare_ingest</code></dd>\n",
       "            </dl>\n",
       "        </div>\n",
       "        \n",
       "            </div>\n",
       "        "
      ],
      "text/plain": [
       "<pyspark.sql.session.SparkSession at 0x20a6e906ed0>"
      ]
     },
     "execution_count": 3,
     "metadata": {},
     "output_type": "execute_result"
    }
   ],
   "source": [
    "spark"
   ]
  },
  {
   "cell_type": "code",
   "execution_count": 7,
   "metadata": {},
   "outputs": [],
   "source": [
    "landing_folder = \"landing_zone\""
   ]
  },
  {
   "cell_type": "code",
   "execution_count": 8,
   "metadata": {},
   "outputs": [],
   "source": [
    "patients = spark.read \\\n",
    "            .option(\"inferschema\", \"True\") \\\n",
    "            .option(\"header\", \"True\") \\\n",
    "            .csv(f\"{landing_folder}\\\\health_records\\\\patients.csv\")"
   ]
  },
  {
   "cell_type": "code",
   "execution_count": 9,
   "metadata": {},
   "outputs": [
    {
     "name": "stdout",
     "output_type": "stream",
     "text": [
      "root\n",
      " |-- Id: string (nullable = true)\n",
      " |-- BIRTHDATE: date (nullable = true)\n",
      " |-- DEATHDATE: date (nullable = true)\n",
      " |-- PREFIX: string (nullable = true)\n",
      " |-- FIRST: string (nullable = true)\n",
      " |-- LAST: string (nullable = true)\n",
      " |-- SUFFIX: string (nullable = true)\n",
      " |-- MAIDEN: string (nullable = true)\n",
      " |-- MARITAL: string (nullable = true)\n",
      " |-- RACE: string (nullable = true)\n",
      " |-- ETHNICITY: string (nullable = true)\n",
      " |-- GENDER: string (nullable = true)\n",
      " |-- BIRTHPLACE: string (nullable = true)\n",
      " |-- ADDRESS: string (nullable = true)\n",
      " |-- CITY: string (nullable = true)\n",
      " |-- STATE: string (nullable = true)\n",
      " |-- COUNTY: string (nullable = true)\n",
      " |-- ZIP: integer (nullable = true)\n",
      " |-- LAT: double (nullable = true)\n",
      " |-- LON: double (nullable = true)\n",
      "\n"
     ]
    }
   ],
   "source": [
    "patients.printSchema()"
   ]
  },
  {
   "cell_type": "code",
   "execution_count": 39,
   "metadata": {},
   "outputs": [
    {
     "data": {
      "text/plain": [
       "974"
      ]
     },
     "execution_count": 39,
     "metadata": {},
     "output_type": "execute_result"
    }
   ],
   "source": [
    "patients.count()"
   ]
  },
  {
   "cell_type": "code",
   "execution_count": 40,
   "metadata": {},
   "outputs": [],
   "source": [
    "patients_renamed = patients.withColumnRenamed(\"Id\", \"patients_id\")"
   ]
  },
  {
   "cell_type": "code",
   "execution_count": 41,
   "metadata": {},
   "outputs": [
    {
     "name": "stdout",
     "output_type": "stream",
     "text": [
      "+--------------------+----------+----------+------+------------+--------------+------+-----------+-------+------+-----------+------+--------------------+--------------------+----------+-------------+----------------+----+------------------+------------+\n",
      "|                  Id| BIRTHDATE| DEATHDATE|PREFIX|       FIRST|          LAST|SUFFIX|     MAIDEN|MARITAL|  RACE|  ETHNICITY|GENDER|          BIRTHPLACE|             ADDRESS|      CITY|        STATE|          COUNTY| ZIP|               LAT|         LON|\n",
      "+--------------------+----------+----------+------+------------+--------------+------+-----------+-------+------+-----------+------+--------------------+--------------------+----------+-------------+----------------+----+------------------+------------+\n",
      "|5605b66b-e92d-c16...|1977-03-19|      NULL|  Mrs.|   Nikita578|     Erdman779|  NULL|  Leannon79|      M| white|nonhispanic|     F|Wakefield  Massac...|510 Little Statio...|    Quincy|Massachusetts|  Norfolk County|2186|42.290937381211286|-70.97550306|\n",
      "|6e5ae27c-8038-798...|1940-02-19|      NULL|   Mr.|     Zane918| Hodkiewicz467|  NULL|       NULL|      M| white|nonhispanic|     M|Brookline  Massac...| 747 Conn Throughway|    Boston|Massachusetts|  Suffolk County|2135|42.308831197562505| -71.0631616|\n",
      "|8123d076-0886-900...|1958-06-04|      NULL|   Mr.|    Quinn173|  Marquardt819|  NULL|       NULL|      M| white|nonhispanic|     M|Gardner  Massachu...|816 Okuneva Exten...|    Quincy|Massachusetts|  Norfolk County|2170| 42.26517684888508|-70.96708508|\n",
      "|770518e4-6133-648...|1928-12-25|2017-09-29|   Mr.|     Abel832|    Smitham825|  NULL|       NULL|      M| white|   hispanic|     M|Randolph  Massach...|127 Cole Way Unit 95|    Boston|Massachusetts|  Suffolk County|2118|42.334303740740594| -71.0668012|\n",
      "|f96addf5-81b9-0aa...|1928-12-25|2014-02-23|   Mr.|    Edwin773|    Labadie908|  NULL|       NULL|      M| white|   hispanic|     M|Stow  Massachuset...| 976 Ziemann Gateway|    Boston|Massachusetts|  Suffolk County|2125|42.346771403899275|-71.05881297|\n",
      "|8e9650d1-788a-78f...|1928-12-25|      NULL|   Mr.|  Frankie174|Oberbrunner298|  NULL|       NULL|      M| white|   hispanic|     M|Boston  Massachus...|303 Bechtelar Byp...|    Boston|Massachusetts|  Suffolk County|2467|       42.37102647|-71.11810672|\n",
      "|183df435-4190-060...|1957-11-08|      NULL|  Mrs.|   Eilene124|      Walsh511|  NULL| Wiegand701|      M| asian|nonhispanic|     F|Beijing  Beijing ...|     235 Lang Parade| Cambridge|Massachusetts|Middlesex County|2142| 42.35892760552785|-71.15622361|\n",
      "|720560d4-51da-c38...|1972-06-27|      NULL|   Mr.|   Lowell343|      Price929|  NULL|       NULL|      M| white|nonhispanic|     M|Lowell  Massachus...|694 Kuhlman Corne...|    Quincy|Massachusetts|  Norfolk County|2170|42.297903944576696|-71.01598304|\n",
      "|217851b0-5f47-d37...|1954-03-06|      NULL|   Mr.|   Adrian111|    Gleason633|  NULL|       NULL|      S| black|   hispanic|     M|Boston  Massachus...|   808 Gottlieb Wall|    Boston|Massachusetts|  Suffolk County|2126| 42.38408414202098| -71.1006892|\n",
      "|ff331e5c-ab16-e21...|1927-07-10|      NULL|   Mr.|   Eugene421|  Abernathy524|  NULL|       NULL|      M|native|   hispanic|     M|Pembroke  Massach...|706 Connelly Trac...|    Boston|Massachusetts|  Suffolk County|2111|42.358519313454885|-71.07859759|\n",
      "|affa7bf1-f4fc-d3f...|1933-05-08|      NULL|   Mr.|      Jay242|     Wisozk929|  NULL|       NULL|      M| white|nonhispanic|     M|Boston  Massachus...|    471 Borer Estate|    Boston|Massachusetts|  Suffolk County|2124| 42.32018629385089|-71.14569272|\n",
      "|becb15c3-a135-8fb...|1948-05-30|      NULL|  Mrs.|Stephanie963|     Douglas31|  NULL|Predovic534|      M| white|nonhispanic|     F|Amesbury  Massach...|   345 Carter Hollow|    Boston|Massachusetts|  Suffolk County|2132|       42.34832748|-71.09646633|\n",
      "|a8ceba15-ef47-da9...|1971-10-27|2021-03-26|  Mrs.|   Helene803|    Kilback373|  NULL|  Walker122|      M| white|   hispanic|     F|New Bedford  Mass...|865 McLaughlin Un...|    Boston|Massachusetts|  Suffolk County|2114| 42.34049480617021|-71.10111729|\n",
      "|0e02b297-527d-b5e...|1983-04-11|      NULL|   Mr.|    Maria750|    Waelchi213|  NULL|       NULL|      M| black|nonhispanic|     M|Salem  Massachuse...|584 Cormier Lodge...|Somerville|Massachusetts|Middlesex County|2145| 42.34629011328354|-71.10642736|\n",
      "|f2203fd5-1a2c-60c...|1939-09-21|      NULL|  Mrs.|     Edra310|     Wehner319|  NULL|   Upton904|      M| white|nonhispanic|     F|Fairhaven  Massac...|538 Hilpert Estat...|    Boston|Massachusetts|  Suffolk County|2131| 42.33537460452552|-71.05849869|\n",
      "|4d55540d-c43d-e6e...|1964-10-15|      NULL|  Mrs.|   Mickie472|   Champlin946|  NULL| Hermann103|      M| white|nonhispanic|     F|Chelsea  Massachu...|1092 Schoen Grove...|    Boston|Massachusetts|  Suffolk County|2119|42.340495535169836| -71.0654866|\n",
      "|07e7f8a0-1bfd-3af...|1923-03-16|      NULL|   Ms.|    Norah104|      Feeney44|  NULL|       NULL|      S| white|nonhispanic|     F|Oxford  Massachus...|    865 Pollich Rest|    Boston|Massachusetts|  Suffolk County|2125| 42.36743841892837|-71.01451077|\n",
      "|6746a7c0-1335-90e...|1979-06-16|      NULL|   Mr.|  Edgardo196|    Okuneva707|  NULL|       NULL|      S| black|nonhispanic|     M|Waltham  Massachu...|947 Eichmann Boul...|    Revere|Massachusetts|  Suffolk County|2151| 42.38943374736875|-70.99622431|\n",
      "|733678d5-4ba7-d46...|1981-02-17|      NULL|   Mr.|    Allen322|     Schumm995|  NULL|       NULL|      M| white|nonhispanic|     M|Haverhill  Massac...|  425 Lang Boulevard|    Quincy|Massachusetts|  Norfolk County|2169| 42.30327969256278| -70.9740781|\n",
      "|5bd6c434-6f51-6e5...|1931-12-18|      NULL|  Mrs.|    Celia938|     Carter549|  NULL|   Crona259|      M| asian|nonhispanic|     F|Attleboro  Massac...|773 Weissnat Rout...|    Boston|Massachusetts|  Suffolk County|2111| 42.32476069440513| -70.9989431|\n",
      "+--------------------+----------+----------+------+------------+--------------+------+-----------+-------+------+-----------+------+--------------------+--------------------+----------+-------------+----------------+----+------------------+------------+\n",
      "only showing top 20 rows\n",
      "\n"
     ]
    }
   ],
   "source": [
    "patients.show()"
   ]
  },
  {
   "cell_type": "code",
   "execution_count": 42,
   "metadata": {},
   "outputs": [],
   "source": [
    "procedure = spark.read \\\n",
    "            .option(\"inferschema\", \"True\") \\\n",
    "            .option(\"header\", \"True\") \\\n",
    "            .csv(f\"{landing_folder}\\\\health_records\\\\procedures.csv\")"
   ]
  },
  {
   "cell_type": "code",
   "execution_count": 43,
   "metadata": {},
   "outputs": [
    {
     "name": "stdout",
     "output_type": "stream",
     "text": [
      "root\n",
      " |-- START: timestamp (nullable = true)\n",
      " |-- STOP: timestamp (nullable = true)\n",
      " |-- PATIENT: string (nullable = true)\n",
      " |-- ENCOUNTER: string (nullable = true)\n",
      " |-- CODE: long (nullable = true)\n",
      " |-- DESCRIPTION: string (nullable = true)\n",
      " |-- BASE_COST: integer (nullable = true)\n",
      " |-- REASONCODE: long (nullable = true)\n",
      " |-- REASONDESCRIPTION: string (nullable = true)\n",
      "\n"
     ]
    }
   ],
   "source": [
    "procedure.printSchema()"
   ]
  },
  {
   "cell_type": "code",
   "execution_count": 44,
   "metadata": {},
   "outputs": [],
   "source": [
    "procedure_renamed = procedure.withColumnRenamed(\"PATIENT\", \"PATIENT_ID\") \\\n",
    "                             .withColumnRenamed(\"ENCOUNTER\", \"ENCOUNTER_ID\")"
   ]
  },
  {
   "cell_type": "code",
   "execution_count": 45,
   "metadata": {},
   "outputs": [
    {
     "data": {
      "text/plain": [
       "47701"
      ]
     },
     "execution_count": 45,
     "metadata": {},
     "output_type": "execute_result"
    }
   ],
   "source": [
    "procedure_renamed.count()"
   ]
  },
  {
   "cell_type": "code",
   "execution_count": 46,
   "metadata": {},
   "outputs": [
    {
     "name": "stdout",
     "output_type": "stream",
     "text": [
      "+-------------------+-------------------+--------------------+--------------------+---------------+--------------------+---------+----------+--------------------+\n",
      "|              START|               STOP|             PATIENT|           ENCOUNTER|           CODE|         DESCRIPTION|BASE_COST|REASONCODE|   REASONDESCRIPTION|\n",
      "+-------------------+-------------------+--------------------+--------------------+---------------+--------------------+---------+----------+--------------------+\n",
      "|2011-01-02 10:26:36|2011-01-02 13:58:36|3de74169-7f67-930...|32c84703-2481-49c...|      265764009|Renal dialysis (p...|      903|      NULL|                NULL|\n",
      "|2011-01-03 06:44:39|2011-01-03 07:01:42|d9ec2e44-32e9-914...|c98059da-320a-c0a...|       76601001|Intramuscular inj...|     2477|      NULL|                NULL|\n",
      "|2011-01-04 15:49:55|2011-01-04 16:04:55|d856d6e6-4c98-e7a...|2cfd4ddd-ad13-fe1...|      703423002|Combined chemothe...|    11620| 363406005|Malignant tumor o...|\n",
      "|2011-01-05 05:02:09|2011-01-05 05:17:09|bc9d59c3-0a30-6e3...|17966936-0878-f4d...|      173160006|Diagnostic fibero...|     9796| 162573006|Suspected lung ca...|\n",
      "|2011-01-05 13:58:36|2011-01-05 17:42:36|3de74169-7f67-930...|9de5f0b0-4ba4-ce6...|      265764009|Renal dialysis (p...|     1255|      NULL|                NULL|\n",
      "|2011-01-06 19:12:41|2011-01-06 19:17:12|712e95dd-f313-39c...|44057ea7-178f-c3c...|      410006001|Digital examinati...|      564|      NULL|                NULL|\n",
      "|2011-01-07 22:02:09|2011-01-07 23:39:45|bc9d59c3-0a30-6e3...|4b6a38e6-7df9-2d7...|      698354004|Magnetic resonanc...|     5050| 424132000|Non-small cell ca...|\n",
      "|2011-01-07 23:39:45|2011-01-08 00:00:45|bc9d59c3-0a30-6e3...|cc36dc26-6019-94a...|      703423002|Combined chemothe...|    15760| 424132000|Non-small cell ca...|\n",
      "|2011-01-08 17:42:36|2011-01-08 21:15:36|3de74169-7f67-930...|03f54837-bfc8-81a...|      265764009|Renal dialysis (p...|     1556|      NULL|                NULL|\n",
      "|2011-01-09 17:11:28|2011-01-09 17:51:19|f4cde0dc-db22-5d9...|17d162fa-fc25-b3c...|       73761001|         Colonoscopy|    13620|      NULL|                NULL|\n",
      "|2011-01-11 21:15:36|2011-01-11 23:49:36|3de74169-7f67-930...|60fd4512-b01b-8b8...|      265764009|Renal dialysis (p...|      828|      NULL|                NULL|\n",
      "|2011-01-12 11:27:18|2011-01-12 12:04:45|415e1d82-d8cb-d7a...|5737cb74-d3f1-17c...|       73761001|         Colonoscopy|    11715|      NULL|                NULL|\n",
      "|2011-01-12 19:09:27|2011-01-12 19:24:27|712e95dd-f313-39c...|44057ea7-178f-c3c...|      180325003|Electrical cardio...|    30559|  49436004| Atrial Fibrillation|\n",
      "|2011-01-12 19:09:27|2011-01-12 20:05:48|712e95dd-f313-39c...|44057ea7-178f-c3c...|      710824005|Assessment of hea...|      431|      NULL|                NULL|\n",
      "|2011-01-12 20:01:32|2011-01-12 20:16:40|6d285ea2-d91d-eae...|2a357aeb-1c5b-67d...|       76601001|Intramuscular inj...|     2189|      NULL|                NULL|\n",
      "|2011-01-12 20:05:48|2011-01-12 20:30:35|712e95dd-f313-39c...|44057ea7-178f-c3c...|      762993000|Assessment using ...|      431|      NULL|                NULL|\n",
      "|2011-01-12 20:30:35|2011-01-12 21:09:20|712e95dd-f313-39c...|44057ea7-178f-c3c...|      866148006|Screening for dom...|      431|      NULL|                NULL|\n",
      "|2011-01-12 21:09:20|2011-01-12 21:22:13|712e95dd-f313-39c...|44057ea7-178f-c3c...|      171207006|Depression screen...|      431|      NULL|                NULL|\n",
      "|2011-01-12 21:22:13|2011-01-12 21:42:13|712e95dd-f313-39c...|44057ea7-178f-c3c...|454711000124102|Depression screen...|      431|      NULL|                NULL|\n",
      "|2011-01-13 16:41:08|2011-01-13 16:56:08|8fe3348d-477f-541...|5c504a86-1804-ed3...|      443529005|Screening for chr...|     1484|  72892002|    Normal pregnancy|\n",
      "+-------------------+-------------------+--------------------+--------------------+---------------+--------------------+---------+----------+--------------------+\n",
      "only showing top 20 rows\n",
      "\n"
     ]
    }
   ],
   "source": [
    "procedure.show()"
   ]
  },
  {
   "cell_type": "code",
   "execution_count": 47,
   "metadata": {},
   "outputs": [],
   "source": [
    "encounters = spark.read \\\n",
    "            .option(\"inferschema\", \"True\") \\\n",
    "            .option(\"header\", \"True\") \\\n",
    "            .csv(f\"{landing_folder}\\\\health_records\\\\encounters.csv\")"
   ]
  },
  {
   "cell_type": "code",
   "execution_count": 48,
   "metadata": {},
   "outputs": [
    {
     "data": {
      "text/plain": [
       "27891"
      ]
     },
     "execution_count": 48,
     "metadata": {},
     "output_type": "execute_result"
    }
   ],
   "source": [
    "encounters.count()"
   ]
  },
  {
   "cell_type": "code",
   "execution_count": 49,
   "metadata": {},
   "outputs": [
    {
     "name": "stdout",
     "output_type": "stream",
     "text": [
      "+--------------------+-------------------+-------------------+--------------------+--------------------+--------------------+--------------+---------+--------------------+-------------------+----------------+--------------+----------+--------------------+\n",
      "|                  Id|              START|               STOP|             PATIENT|        ORGANIZATION|               PAYER|ENCOUNTERCLASS|     CODE|         DESCRIPTION|BASE_ENCOUNTER_COST|TOTAL_CLAIM_COST|PAYER_COVERAGE|REASONCODE|   REASONDESCRIPTION|\n",
      "+--------------------+-------------------+-------------------+--------------------+--------------------+--------------------+--------------+---------+--------------------+-------------------+----------------+--------------+----------+--------------------+\n",
      "|32c84703-2481-49c...|2011-01-02 10:26:36|2011-01-02 13:58:36|3de74169-7f67-930...|d78e84ec-30aa-3bb...|b1c428d6-4f07-31e...|    ambulatory|185347001|Encounter for pro...|              85.55|         1018.02|           0.0|      NULL|                NULL|\n",
      "|c98059da-320a-c0a...|2011-01-03 06:44:39|2011-01-03 07:01:42|d9ec2e44-32e9-914...|d78e84ec-30aa-3bb...|b1c428d6-4f07-31e...|    outpatient|308335008|Patient encounter...|             142.58|         2619.36|           0.0|      NULL|                NULL|\n",
      "|4ad28a3a-2479-782...|2011-01-03 15:32:11|2011-01-03 15:47:11|73babadf-5b2b-fee...|d78e84ec-30aa-3bb...|7caa7254-5050-3b5...|    outpatient|185349003|Encounter for che...|              85.55|          461.59|        305.27|      NULL|                NULL|\n",
      "|c3f4da61-e4b4-21d...|2011-01-03 17:24:45|2011-01-03 17:39:45|3b46a0b7-0f34-9b9...|d78e84ec-30aa-3bb...|b1c428d6-4f07-31e...|      wellness|162673000|General examinati...|              136.8|         1784.24|           0.0|      NULL|                NULL|\n",
      "|a9183b4f-2572-72e...|2011-01-03 18:36:53|2011-01-03 18:51:53|fa006887-d93c-d30...|d78e84ec-30aa-3bb...|42c4fca7-f8a9-3cd...|    ambulatory|390906007| Follow-up encounter|              85.55|          234.72|           0.0|  55822004|      Hyperlipidemia|\n",
      "|c4923a74-3e40-8b0...|2011-01-03 20:08:16|2011-01-03 20:23:16|823c6b40-9dbe-e46...|d78e84ec-30aa-3bb...|7caa7254-5050-3b5...|      wellness|162673000|General examinati...|              136.8|         1183.25|        946.58|      NULL|                NULL|\n",
      "|c140ed81-040e-831...|2011-01-03 23:39:50|2011-01-03 23:54:50|9c616fc0-00ea-249...|d78e84ec-30aa-3bb...|b1c428d6-4f07-31e...|    outpatient|185349003|Encounter for che...|              85.55|         6024.77|           0.0|      NULL|                NULL|\n",
      "|2cfd4ddd-ad13-fe1...|2011-01-04 15:49:55|2011-01-04 16:04:55|d856d6e6-4c98-e7a...|d78e84ec-30aa-3bb...|7c4411ce-02f1-39b...|    ambulatory|185347001|Encounter for pro...|              85.55|        11855.19|      11205.43| 363406005|Malignant tumor o...|\n",
      "|16bdc066-886f-34e...|2011-01-04 16:13:10|2011-01-04 16:28:10|a80b1160-93f0-db7...|d78e84ec-30aa-3bb...|b1c428d6-4f07-31e...|      wellness|162673000|General examinati...|              136.8|           272.8|           0.0|      NULL|                NULL|\n",
      "|17966936-0878-f4d...|2011-01-05 05:02:09|2011-01-05 05:17:09|bc9d59c3-0a30-6e3...|d78e84ec-30aa-3bb...|7caa7254-5050-3b5...|    outpatient|185347001|Encounter for pro...|              85.55|         9881.17|       7872.94| 254637007|Non-small cell lu...|\n",
      "|9de5f0b0-4ba4-ce6...|2011-01-05 13:58:36|2011-01-05 17:42:36|3de74169-7f67-930...|d78e84ec-30aa-3bb...|b1c428d6-4f07-31e...|    ambulatory|185347001|Encounter for pro...|              85.55|         1370.79|           0.0|      NULL|                NULL|\n",
      "|97c951a3-4fce-fc9...|2011-01-05 20:37:58|2011-01-05 20:52:58|500acdfe-d563-b82...|d78e84ec-30aa-3bb...|b3221cfc-24fb-339...|      wellness|162673000|General examinati...|              136.8|         1576.46|       1497.64|      NULL|                NULL|\n",
      "|b04288ff-6e7d-179...|2011-01-07 11:28:00|2011-01-07 11:43:00|11766433-08db-815...|d78e84ec-30aa-3bb...|d47b3510-2895-3b7...|    urgentcare|702927004|Urgent care clini...|             142.58|          278.58|           0.0|      NULL|                NULL|\n",
      "|a9147504-3f81-7c3...|2011-01-07 12:15:07|2011-01-07 12:30:07|0034fe01-207f-275...|d78e84ec-30aa-3bb...|b1c428d6-4f07-31e...|    outpatient|185349003|Encounter for che...|              85.55|          221.55|           0.0|      NULL|                NULL|\n",
      "|4b6a38e6-7df9-2d7...|2011-01-07 22:02:09|2011-01-07 23:39:45|bc9d59c3-0a30-6e3...|d78e84ec-30aa-3bb...|7caa7254-5050-3b5...|    outpatient|185347001|Encounter for pro...|              85.55|          5136.0|        4076.8| 424132000|Non-small cell ca...|\n",
      "|cc36dc26-6019-94a...|2011-01-07 23:39:45|2011-01-08 23:39:45|bc9d59c3-0a30-6e3...|d78e84ec-30aa-3bb...|7caa7254-5050-3b5...|     inpatient|185347001|Encounter for pro...|              87.71|        19437.88|       15454.3|      NULL|                NULL|\n",
      "|f39e72a6-a58e-0ae...|2011-01-08 16:20:55|2011-01-08 16:35:55|88986fec-6364-262...|d78e84ec-30aa-3bb...|7caa7254-5050-3b5...|    ambulatory|390906007| Follow-up encounter|              85.55|          234.72|        155.77|  55822004|      Hyperlipidemia|\n",
      "|03f54837-bfc8-81a...|2011-01-08 17:42:36|2011-01-08 21:15:36|3de74169-7f67-930...|d78e84ec-30aa-3bb...|b1c428d6-4f07-31e...|    ambulatory|185347001|Encounter for pro...|              85.55|         1671.32|           0.0|      NULL|                NULL|\n",
      "|a8971824-681b-71d...|2011-01-09 07:28:54|2011-01-09 07:43:54|f116b085-d008-e6c...|d78e84ec-30aa-3bb...|42c4fca7-f8a9-3cd...|    outpatient|185347001|Encounter for pro...|              85.55|           85.55|           0.0|      NULL|                NULL|\n",
      "|17d162fa-fc25-b3c...|2011-01-09 17:11:28|2011-01-09 17:51:19|f4cde0dc-db22-5d9...|d78e84ec-30aa-3bb...|5059a55e-5d6e-34d...|    ambulatory|185349003|Encounter for 'ch...|              85.55|        13705.56|           0.0|      NULL|                NULL|\n",
      "+--------------------+-------------------+-------------------+--------------------+--------------------+--------------------+--------------+---------+--------------------+-------------------+----------------+--------------+----------+--------------------+\n",
      "only showing top 20 rows\n",
      "\n"
     ]
    }
   ],
   "source": [
    "encounters.show()"
   ]
  },
  {
   "cell_type": "code",
   "execution_count": 50,
   "metadata": {},
   "outputs": [
    {
     "name": "stdout",
     "output_type": "stream",
     "text": [
      "root\n",
      " |-- Id: string (nullable = true)\n",
      " |-- START: timestamp (nullable = true)\n",
      " |-- STOP: timestamp (nullable = true)\n",
      " |-- PATIENT: string (nullable = true)\n",
      " |-- ORGANIZATION: string (nullable = true)\n",
      " |-- PAYER: string (nullable = true)\n",
      " |-- ENCOUNTERCLASS: string (nullable = true)\n",
      " |-- CODE: integer (nullable = true)\n",
      " |-- DESCRIPTION: string (nullable = true)\n",
      " |-- BASE_ENCOUNTER_COST: double (nullable = true)\n",
      " |-- TOTAL_CLAIM_COST: double (nullable = true)\n",
      " |-- PAYER_COVERAGE: double (nullable = true)\n",
      " |-- REASONCODE: long (nullable = true)\n",
      " |-- REASONDESCRIPTION: string (nullable = true)\n",
      "\n"
     ]
    }
   ],
   "source": [
    "encounters.printSchema()"
   ]
  },
  {
   "cell_type": "code",
   "execution_count": 51,
   "metadata": {},
   "outputs": [],
   "source": [
    "encounters_renamed = encounters.withColumnRenamed(\"Id\", \"encounters_id\") \\\n",
    "                               .withColumnRenamed(\"PATIENT\", \"PATIENT_ID\")"
   ]
  },
  {
   "cell_type": "code",
   "execution_count": 52,
   "metadata": {},
   "outputs": [],
   "source": [
    "payers = spark.read \\\n",
    "            .option(\"inferschema\", \"True\") \\\n",
    "            .option(\"header\", \"True\") \\\n",
    "            .csv(f\"{landing_folder}\\\\health_records\\\\payers.csv\")"
   ]
  },
  {
   "cell_type": "code",
   "execution_count": 53,
   "metadata": {},
   "outputs": [
    {
     "name": "stdout",
     "output_type": "stream",
     "text": [
      "root\n",
      " |-- Id: string (nullable = true)\n",
      " |-- NAME: string (nullable = true)\n",
      " |-- ADDRESS: string (nullable = true)\n",
      " |-- CITY: string (nullable = true)\n",
      " |-- STATE_HEADQUARTERED: string (nullable = true)\n",
      " |-- ZIP: integer (nullable = true)\n",
      " |-- PHONE: string (nullable = true)\n",
      "\n"
     ]
    }
   ],
   "source": [
    "payers.printSchema()"
   ]
  },
  {
   "cell_type": "code",
   "execution_count": 54,
   "metadata": {},
   "outputs": [],
   "source": [
    "payers_renamed = payers.withColumnRenamed(\"Id\", \"payers_id\") \\\n",
    "                       .withColumnRenamed(\"NAME\", \"PAYER_NAME\")"
   ]
  },
  {
   "cell_type": "code",
   "execution_count": 55,
   "metadata": {},
   "outputs": [
    {
     "data": {
      "text/plain": [
       "10"
      ]
     },
     "execution_count": 55,
     "metadata": {},
     "output_type": "execute_result"
    }
   ],
   "source": [
    "payers_renamed.count()"
   ]
  },
  {
   "cell_type": "code",
   "execution_count": 56,
   "metadata": {},
   "outputs": [
    {
     "name": "stdout",
     "output_type": "stream",
     "text": [
      "+--------------------+--------------------+--------------------+------------+-------------------+-----+--------------+\n",
      "|           payers_id|          PAYER_NAME|             ADDRESS|        CITY|STATE_HEADQUARTERED|  ZIP|         PHONE|\n",
      "+--------------------+--------------------+--------------------+------------+-------------------+-----+--------------+\n",
      "|b3221cfc-24fb-339...|       Dual Eligible|  7500 Security Blvd|   Baltimore|                 MD|21244|1-877-267-2323|\n",
      "|7caa7254-5050-3b5...|            Medicare|  7500 Security Blvd|   Baltimore|                 MD|21244|1-800-633-4227|\n",
      "|7c4411ce-02f1-39b...|            Medicaid|  7500 Security Blvd|   Baltimore|                 MD|21244|1-877-267-2323|\n",
      "|d47b3510-2895-3b7...|              Humana|    500 West Main St|  Louisville|                 KY|40018|1-844-330-7799|\n",
      "|6e2f1a2d-27bd-370...|Blue Cross Blue S...|      Michigan Plaza|     Chicago|                 IL|60007|1-800-262-2583|\n",
      "|5059a55e-5d6e-34d...|    UnitedHealthcare|9800 Healthcare Lane|  Minnetonka|                 MN|55436|1-888-545-5205|\n",
      "|4d71f845-a6a9-3c3...|               Aetna|  151 Farmington Ave|    Hartford|                 CT| 6156|1-800-872-3862|\n",
      "|047f6ec3-6215-35e...|        Cigna Health|900 Cottage Grove Rd|  Bloomfield|                 CT| 6002|1-800-997-1654|\n",
      "|42c4fca7-f8a9-3cd...|              Anthem|    220 Virginia Ave|Indianapolis|                 IN|46204|1-800-331-1476|\n",
      "|b1c428d6-4f07-31e...|        NO_INSURANCE|                NULL|        NULL|               NULL| NULL|          NULL|\n",
      "+--------------------+--------------------+--------------------+------------+-------------------+-----+--------------+\n",
      "\n"
     ]
    }
   ],
   "source": [
    "payers_renamed.show()"
   ]
  },
  {
   "cell_type": "code",
   "execution_count": 57,
   "metadata": {},
   "outputs": [],
   "source": [
    "organizations = spark.read \\\n",
    "            .option(\"inferschema\", \"True\") \\\n",
    "            .option(\"header\", \"True\") \\\n",
    "            .csv(f\"{landing_folder}\\\\health_records\\\\organizations.csv\")"
   ]
  },
  {
   "cell_type": "code",
   "execution_count": 58,
   "metadata": {},
   "outputs": [
    {
     "name": "stdout",
     "output_type": "stream",
     "text": [
      "root\n",
      " |-- Id: string (nullable = true)\n",
      " |-- NAME: string (nullable = true)\n",
      " |-- ADDRESS: string (nullable = true)\n",
      " |-- CITY: string (nullable = true)\n",
      " |-- STATE: string (nullable = true)\n",
      " |-- ZIP: integer (nullable = true)\n",
      " |-- LAT: double (nullable = true)\n",
      " |-- LON: double (nullable = true)\n",
      "\n"
     ]
    }
   ],
   "source": [
    "organizations.printSchema()"
   ]
  },
  {
   "cell_type": "code",
   "execution_count": 59,
   "metadata": {},
   "outputs": [],
   "source": [
    "organizations_renamed = organizations.withColumnRenamed(\"Id\", \"organizations_id\")"
   ]
  },
  {
   "cell_type": "code",
   "execution_count": 60,
   "metadata": {},
   "outputs": [
    {
     "data": {
      "text/plain": [
       "1"
      ]
     },
     "execution_count": 60,
     "metadata": {},
     "output_type": "execute_result"
    }
   ],
   "source": [
    "organizations_renamed.count()"
   ]
  },
  {
   "cell_type": "code",
   "execution_count": 61,
   "metadata": {},
   "outputs": [
    {
     "name": "stdout",
     "output_type": "stream",
     "text": [
      "+--------------------+--------------------+---------------+------+-----+----+---------+----------+\n",
      "|    organizations_id|                NAME|        ADDRESS|  CITY|STATE| ZIP|      LAT|       LON|\n",
      "+--------------------+--------------------+---------------+------+-----+----+---------+----------+\n",
      "|d78e84ec-30aa-3bb...|MASSACHUSETTS GEN...|55 FRUIT STREET|BOSTON|   MA|2114|42.362813|-71.069187|\n",
      "+--------------------+--------------------+---------------+------+-----+----+---------+----------+\n",
      "\n"
     ]
    }
   ],
   "source": [
    "organizations_renamed.show()"
   ]
  },
  {
   "cell_type": "code",
   "execution_count": 62,
   "metadata": {},
   "outputs": [],
   "source": [
    "description = spark.read \\\n",
    "            .option(\"inferschema\", \"True\") \\\n",
    "            .option(\"header\", \"True\") \\\n",
    "            .csv(f\"{landing_folder}\\\\health_records\\\\data_dictionary.csv\")"
   ]
  },
  {
   "cell_type": "code",
   "execution_count": 63,
   "metadata": {},
   "outputs": [
    {
     "name": "stdout",
     "output_type": "stream",
     "text": [
      "root\n",
      " |-- Table: string (nullable = true)\n",
      " |-- Field: string (nullable = true)\n",
      " |-- Description: string (nullable = true)\n",
      "\n"
     ]
    }
   ],
   "source": [
    "description.printSchema()"
   ]
  },
  {
   "cell_type": "code",
   "execution_count": 75,
   "metadata": {},
   "outputs": [
    {
     "name": "stdout",
     "output_type": "stream",
     "text": [
      "table created\n"
     ]
    }
   ],
   "source": [
    "try:\n",
    "    patients_renamed.write.format(\"delta\").mode(\"overwrite\").save(f\"{bronze_folder}\\\\healthcare_delta\\\\patients\")\n",
    "    print(\"table created\")\n",
    "except Exception as e:\n",
    "    print(\"Table creation failed\")\n",
    "    print (e)\n"
   ]
  },
  {
   "cell_type": "code",
   "execution_count": 69,
   "metadata": {},
   "outputs": [],
   "source": [
    "\n",
    "procedure_renamed.write.format(\"delta\").mode(\"overwrite\").save(f\"{bronze_folder}\\\\healthcare_delta\\\\procedure\")"
   ]
  },
  {
   "cell_type": "code",
   "execution_count": 70,
   "metadata": {},
   "outputs": [],
   "source": [
    "encounters_renamed.write.format(\"delta\").mode(\"overwrite\").save(f\"{bronze_folder}\\\\healthcare_delta\\\\encounters\")"
   ]
  },
  {
   "cell_type": "code",
   "execution_count": 71,
   "metadata": {},
   "outputs": [],
   "source": [
    "payers_renamed.write.format(\"delta\").mode(\"overwrite\").save(f\"{bronze_folder}\\\\healthcare_delta\\\\payers\")"
   ]
  },
  {
   "cell_type": "code",
   "execution_count": 72,
   "metadata": {},
   "outputs": [],
   "source": [
    "organizations_renamed.write.format(\"delta\").mode(\"overwrite\").save(f\"{bronze_folder}\\\\healthcare_delta\\\\organizations\")"
   ]
  },
  {
   "cell_type": "code",
   "execution_count": 73,
   "metadata": {},
   "outputs": [],
   "source": [
    "description.write.format(\"delta\").mode(\"overwrite\").save(f\"{bronze_folder}\\\\healthcare_delta\\\\description\")"
   ]
  },
  {
   "cell_type": "code",
   "execution_count": 74,
   "metadata": {},
   "outputs": [
    {
     "data": {
      "text/plain": [
       "<bound method SparkSession.stop of <pyspark.sql.session.SparkSession object at 0x000002499A201750>>"
      ]
     },
     "execution_count": 74,
     "metadata": {},
     "output_type": "execute_result"
    }
   ],
   "source": [
    "spark.stop"
   ]
  },
  {
   "cell_type": "code",
   "execution_count": null,
   "metadata": {},
   "outputs": [],
   "source": []
  }
 ],
 "metadata": {
  "kernelspec": {
   "display_name": ".venv",
   "language": "python",
   "name": "python3"
  },
  "language_info": {
   "codemirror_mode": {
    "name": "ipython",
    "version": 3
   },
   "file_extension": ".py",
   "mimetype": "text/x-python",
   "name": "python",
   "nbconvert_exporter": "python",
   "pygments_lexer": "ipython3",
   "version": "3.11.0"
  }
 },
 "nbformat": 4,
 "nbformat_minor": 2
}
