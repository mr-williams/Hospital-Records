{
 "cells": [
  {
   "cell_type": "code",
   "execution_count": 10,
   "metadata": {},
   "outputs": [],
   "source": [
    "from pyspark.sql import SparkSession\n",
    "from pyspark.sql.functions import current_timestamp, col, count, countDistinct, sum, avg\n",
    "from pyspark.sql.types import StructField, StructType, StringType, IntegerType, DoubleType\n",
    "from delta.tables import *\n",
    "from delta import *\n",
    "from delta import configure_spark_with_delta_pip\n"
   ]
  },
  {
   "cell_type": "code",
   "execution_count": 11,
   "metadata": {},
   "outputs": [],
   "source": [
    "builder = SparkSession \\\n",
    "        .builder \\\n",
    "        .appName('healthcare_Aggregations')\\\n",
    "        .master('local')\\\n",
    "        .config(\"spark.driver.memory\",\"2g\")\\\n",
    "        .config(\"spark.sql.extensions\", \"io.delta.sql.DeltaSparkSessionExtension\")\\\n",
    "        .config(\"spark.sql.catalog.spark_catalog\", \"org.apache.spark.sql.delta.catalog.DeltaCatalog\")\\\n",
    "        .config(\"spark.sql.execution.arrow.pyspark.enabled\", \"true\")\n",
    "\n",
    "\n",
    "spark = configure_spark_with_delta_pip(builder).getOrCreate()"
   ]
  },
  {
   "cell_type": "code",
   "execution_count": 12,
   "metadata": {},
   "outputs": [
    {
     "data": {
      "text/html": [
       "\n",
       "            <div>\n",
       "                <p><b>SparkSession - in-memory</b></p>\n",
       "                \n",
       "        <div>\n",
       "            <p><b>SparkContext</b></p>\n",
       "\n",
       "            <p><a href=\"http://kubernetes.docker.internal:4040\">Spark UI</a></p>\n",
       "\n",
       "            <dl>\n",
       "              <dt>Version</dt>\n",
       "                <dd><code>v3.5.4</code></dd>\n",
       "              <dt>Master</dt>\n",
       "                <dd><code>local</code></dd>\n",
       "              <dt>AppName</dt>\n",
       "                <dd><code>healthcare_Aggregations</code></dd>\n",
       "            </dl>\n",
       "        </div>\n",
       "        \n",
       "            </div>\n",
       "        "
      ],
      "text/plain": [
       "<pyspark.sql.session.SparkSession at 0x1f016a90990>"
      ]
     },
     "execution_count": 12,
     "metadata": {},
     "output_type": "execute_result"
    }
   ],
   "source": [
    "spark"
   ]
  },
  {
   "cell_type": "code",
   "execution_count": 13,
   "metadata": {},
   "outputs": [],
   "source": [
    "source = spark.read \\\n",
    "                .format(\"delta\").load(\"silver\\\\healthcare_trans\")             "
   ]
  },
  {
   "cell_type": "code",
   "execution_count": 14,
   "metadata": {},
   "outputs": [
    {
     "data": {
      "text/plain": [
       "26294"
      ]
     },
     "execution_count": 14,
     "metadata": {},
     "output_type": "execute_result"
    }
   ],
   "source": [
    "source.count()"
   ]
  },
  {
   "cell_type": "code",
   "execution_count": 15,
   "metadata": {},
   "outputs": [
    {
     "name": "stdout",
     "output_type": "stream",
     "text": [
      "root\n",
      " |-- patients_id: string (nullable = true)\n",
      " |-- encounters_id: string (nullable = true)\n",
      " |-- FIRST: string (nullable = true)\n",
      " |-- LAST: string (nullable = true)\n",
      " |-- GENDER: string (nullable = true)\n",
      " |-- CITY: string (nullable = true)\n",
      " |-- BIRTHDATE: date (nullable = true)\n",
      " |-- DEATHDATE: date (nullable = true)\n",
      " |-- ENCOUNTERCLASS: string (nullable = true)\n",
      " |-- REASONCODE: long (nullable = true)\n",
      " |-- REASONDESCRIPTION: string (nullable = true)\n",
      " |-- BASE_COST: integer (nullable = true)\n",
      " |-- BASE_ENCOUNTER_COST: double (nullable = true)\n",
      " |-- TOTAL_CLAIM_COST: double (nullable = true)\n",
      " |-- PAYER: string (nullable = true)\n",
      " |-- PAYER_COVERAGE: double (nullable = true)\n",
      " |-- PAYER_NAME: string (nullable = true)\n",
      " |-- INGESTION_DATE: timestamp (nullable = true)\n",
      " |-- MODIFICATION_DATE: timestamp (nullable = true)\n",
      " |-- SOURCE: string (nullable = true)\n",
      "\n"
     ]
    }
   ],
   "source": [
    "source.printSchema()"
   ]
  },
  {
   "cell_type": "code",
   "execution_count": 16,
   "metadata": {},
   "outputs": [],
   "source": [
    "source.createOrReplaceTempView(\"health\")"
   ]
  },
  {
   "cell_type": "code",
   "execution_count": null,
   "metadata": {},
   "outputs": [
    {
     "name": "stdout",
     "output_type": "stream",
     "text": [
      "+-------+--------------+----------+-----------------+---------+-------------------+----------------+--------------+--------------------+\n",
      "|   CITY|ENCOUNTERCLASS|REASONCODE|REASONDESCRIPTION|BASE_COST|BASE_ENCOUNTER_COST|TOTAL_CLAIM_COST|PAYER_COVERAGE|          PAYER_NAME|\n",
      "+-------+--------------+----------+-----------------+---------+-------------------+----------------+--------------+--------------------+\n",
      "| Boston|    ambulatory|  68496003|   Polyp of colon|     3737|              85.55|        10224.23|       6936.92|Blue Cross Blue S...|\n",
      "|Chelsea|    outpatient|  68496003|   Polyp of colon|     6419|             142.58|          278.58|        152.69|Blue Cross Blue S...|\n",
      "|   Hull|    outpatient|      NULL|             NULL|      747|              85.55|           85.55|           0.0|        NO_INSURANCE|\n",
      "+-------+--------------+----------+-----------------+---------+-------------------+----------------+--------------+--------------------+\n",
      "\n"
     ]
    }
   ],
   "source": [
    "#Insurance Analysis\n",
    "pop_insurance = spark.sql(\"SELECT CITY, ENCOUNTERCLASS, REASONCODE, REASONDESCRIPTION, BASE_COST, BASE_ENCOUNTER_COST,\\\n",
    "                        TOTAL_CLAIM_COST,PAYER_COVERAGE , PAYER_NAME\\\n",
    "                       FROM health LIMIT 3\")\n",
    "pop_insurance.show()"
   ]
  },
  {
   "cell_type": "code",
   "execution_count": null,
   "metadata": {},
   "outputs": [],
   "source": []
  },
  {
   "cell_type": "code",
   "execution_count": 18,
   "metadata": {},
   "outputs": [
    {
     "data": {
      "text/plain": [
       "<bound method SparkSession.stop of <pyspark.sql.session.SparkSession object at 0x000001F016A90990>>"
      ]
     },
     "execution_count": 18,
     "metadata": {},
     "output_type": "execute_result"
    }
   ],
   "source": [
    "spark.stop"
   ]
  },
  {
   "cell_type": "code",
   "execution_count": null,
   "metadata": {},
   "outputs": [],
   "source": []
  }
 ],
 "metadata": {
  "kernelspec": {
   "display_name": ".venv",
   "language": "python",
   "name": "python3"
  },
  "language_info": {
   "codemirror_mode": {
    "name": "ipython",
    "version": 3
   },
   "file_extension": ".py",
   "mimetype": "text/x-python",
   "name": "python",
   "nbconvert_exporter": "python",
   "pygments_lexer": "ipython3",
   "version": "3.11.0"
  }
 },
 "nbformat": 4,
 "nbformat_minor": 2
}
