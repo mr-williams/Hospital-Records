{
 "cells": [
  {
   "cell_type": "code",
   "execution_count": 1,
   "metadata": {},
   "outputs": [],
   "source": [
    "from pyspark.sql import SparkSession\n",
    "from pyspark.sql.functions import current_timestamp, col, count, countDistinct, sum, avg\n",
    "from pyspark.sql.types import StructField, StructType, StringType, IntegerType, DoubleType\n",
    "from delta.tables import *\n",
    "from delta import *\n",
    "from delta import configure_spark_with_delta_pip\n"
   ]
  },
  {
   "cell_type": "code",
   "execution_count": 2,
   "metadata": {},
   "outputs": [],
   "source": [
    "builder = SparkSession \\\n",
    "        .builder \\\n",
    "        .appName('healthcare_Aggregations')\\\n",
    "        .master('local')\\\n",
    "        .config(\"spark.driver.memory\",\"2g\")\\\n",
    "        .config(\"spark.sql.extensions\", \"io.delta.sql.DeltaSparkSessionExtension\")\\\n",
    "        .config(\"spark.sql.catalog.spark_catalog\", \"org.apache.spark.sql.delta.catalog.DeltaCatalog\")\\\n",
    "        .config(\"spark.sql.execution.arrow.pyspark.enabled\", \"true\")\n",
    "\n",
    "\n",
    "spark = configure_spark_with_delta_pip(builder).getOrCreate()"
   ]
  },
  {
   "cell_type": "code",
   "execution_count": 4,
   "metadata": {},
   "outputs": [],
   "source": [
    "source = spark.read \\\n",
    "                .format(\"delta\").load(\"silver\\\\healthcare_trans\")             "
   ]
  },
  {
   "cell_type": "code",
   "execution_count": null,
   "metadata": {},
   "outputs": [],
   "source": [
    "source.printSchema()"
   ]
  },
  {
   "cell_type": "code",
   "execution_count": 7,
   "metadata": {},
   "outputs": [],
   "source": [
    "source.createOrReplaceTempView(\"health\")"
   ]
  },
  {
   "cell_type": "code",
   "execution_count": null,
   "metadata": {},
   "outputs": [],
   "source": [
    "#Insurance Analysis\n",
    "pop_insurance = spark.sql(\"SELECT PAYER_NAME, \\\n",
    "                          SUM(TOTAL_CLAIM_COST) AS TOTALCLAIMCOST,\\\n",
    "                          AVG(PAYER_COVERAGE) AS AVERAGEPAYERCOVERAGE,\\\n",
    "                          COUNT(ENCOUNTERCLASS) AS TOTAL_CLAIMS\\\n",
    "                          FROM health \\\n",
    "                          GROUP BY PAYER_NAME \\\n",
    "                          ORDER BY AVERAGEPAYERCOVERAGE DESC\")\n",
    "pop_insurance.show()"
   ]
  },
  {
   "cell_type": "code",
   "execution_count": null,
   "metadata": {},
   "outputs": [],
   "source": [
    "#Common Encounters\n",
    "encount_cases = spark.sql(\"SELECT ENCOUNTERCLASS, \\\n",
    "                          COUNT(ENCOUNTERCLASS) AS OCCURENCES,\\\n",
    "                          SUM(BASE_ENCOUNTER_COST) AS TOTAL_BASE_ENCOUNTER_COST,\\\n",
    "                          SUM(BASE_COST) AS TOTAL_BASE_COST\\\n",
    "                          FROM health \\\n",
    "                          GROUP BY ENCOUNTERCLASS \\\n",
    "                          ORDER BY OCCURENCES DESC\")\n",
    "encount_cases.show()"
   ]
  },
  {
   "cell_type": "code",
   "execution_count": null,
   "metadata": {},
   "outputs": [],
   "source": [
    "spark.stop"
   ]
  },
  {
   "cell_type": "code",
   "execution_count": null,
   "metadata": {},
   "outputs": [],
   "source": []
  }
 ],
 "metadata": {
  "kernelspec": {
   "display_name": ".venv",
   "language": "python",
   "name": "python3"
  },
  "language_info": {
   "codemirror_mode": {
    "name": "ipython",
    "version": 3
   },
   "file_extension": ".py",
   "mimetype": "text/x-python",
   "name": "python",
   "nbconvert_exporter": "python",
   "pygments_lexer": "ipython3",
   "version": "3.11.0"
  }
 },
 "nbformat": 4,
 "nbformat_minor": 2
}
