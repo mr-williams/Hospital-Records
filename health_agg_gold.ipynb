{
 "cells": [
  {
   "cell_type": "code",
   "execution_count": 1,
   "metadata": {},
   "outputs": [],
   "source": [
    "from pyspark.sql import SparkSession\n",
    "from pyspark.sql.functions import current_timestamp, col, count, countDistinct, sum, avg\n",
    "from pyspark.sql.types import StructField, StructType, StringType, IntegerType, DoubleType\n",
    "from delta.tables import *\n",
    "from delta import *\n",
    "from delta import configure_spark_with_delta_pip\n"
   ]
  },
  {
   "cell_type": "code",
   "execution_count": 2,
   "metadata": {},
   "outputs": [],
   "source": [
    "builder = SparkSession \\\n",
    "        .builder \\\n",
    "        .appName('healthcare_Aggregations')\\\n",
    "        .master('local')\\\n",
    "        .config(\"spark.driver.memory\",\"2g\")\\\n",
    "        .config(\"spark.sql.extensions\", \"io.delta.sql.DeltaSparkSessionExtension\")\\\n",
    "        .config(\"spark.sql.catalog.spark_catalog\", \"org.apache.spark.sql.delta.catalog.DeltaCatalog\")\\\n",
    "        .config(\"spark.sql.execution.arrow.pyspark.enabled\", \"true\")\n",
    "\n",
    "\n",
    "spark = configure_spark_with_delta_pip(builder).getOrCreate()"
   ]
  },
  {
   "cell_type": "code",
   "execution_count": 3,
   "metadata": {},
   "outputs": [
    {
     "data": {
      "text/html": [
       "\n",
       "            <div>\n",
       "                <p><b>SparkSession - in-memory</b></p>\n",
       "                \n",
       "        <div>\n",
       "            <p><b>SparkContext</b></p>\n",
       "\n",
       "            <p><a href=\"http://LAPTOP-HVRT9FOB:4040\">Spark UI</a></p>\n",
       "\n",
       "            <dl>\n",
       "              <dt>Version</dt>\n",
       "                <dd><code>v3.5.4</code></dd>\n",
       "              <dt>Master</dt>\n",
       "                <dd><code>local</code></dd>\n",
       "              <dt>AppName</dt>\n",
       "                <dd><code>healthcare_Aggregations</code></dd>\n",
       "            </dl>\n",
       "        </div>\n",
       "        \n",
       "            </div>\n",
       "        "
      ],
      "text/plain": [
       "<pyspark.sql.session.SparkSession at 0x148b24f04d0>"
      ]
     },
     "execution_count": 3,
     "metadata": {},
     "output_type": "execute_result"
    }
   ],
   "source": [
    "spark"
   ]
  },
  {
   "cell_type": "code",
   "execution_count": 4,
   "metadata": {},
   "outputs": [],
   "source": [
    "source = spark.read \\\n",
    "                .format(\"delta\").load(\"silver\\\\healthcare_trans\")             "
   ]
  },
  {
   "cell_type": "code",
   "execution_count": 5,
   "metadata": {},
   "outputs": [
    {
     "data": {
      "text/plain": [
       "26294"
      ]
     },
     "execution_count": 5,
     "metadata": {},
     "output_type": "execute_result"
    }
   ],
   "source": [
    "source.count()"
   ]
  },
  {
   "cell_type": "code",
   "execution_count": 6,
   "metadata": {},
   "outputs": [
    {
     "name": "stdout",
     "output_type": "stream",
     "text": [
      "root\n",
      " |-- patients_id: string (nullable = true)\n",
      " |-- encounters_id: string (nullable = true)\n",
      " |-- FIRST: string (nullable = true)\n",
      " |-- LAST: string (nullable = true)\n",
      " |-- GENDER: string (nullable = true)\n",
      " |-- CITY: string (nullable = true)\n",
      " |-- BIRTHDATE: date (nullable = true)\n",
      " |-- DEATHDATE: date (nullable = true)\n",
      " |-- ENCOUNTERCLASS: string (nullable = true)\n",
      " |-- REASONCODE: long (nullable = true)\n",
      " |-- REASONDESCRIPTION: string (nullable = true)\n",
      " |-- BASE_COST: integer (nullable = true)\n",
      " |-- BASE_ENCOUNTER_COST: double (nullable = true)\n",
      " |-- TOTAL_CLAIM_COST: double (nullable = true)\n",
      " |-- PAYER: string (nullable = true)\n",
      " |-- PAYER_COVERAGE: double (nullable = true)\n",
      " |-- PAYER_NAME: string (nullable = true)\n",
      " |-- INGESTION_DATE: timestamp (nullable = true)\n",
      " |-- MODIFICATION_DATE: timestamp (nullable = true)\n",
      " |-- SOURCE: string (nullable = true)\n",
      "\n"
     ]
    }
   ],
   "source": [
    "source.printSchema()"
   ]
  },
  {
   "cell_type": "code",
   "execution_count": 7,
   "metadata": {},
   "outputs": [],
   "source": [
    "source.createOrReplaceTempView(\"health\")"
   ]
  },
  {
   "cell_type": "code",
   "execution_count": 13,
   "metadata": {},
   "outputs": [
    {
     "name": "stdout",
     "output_type": "stream",
     "text": [
      "+--------------------+--------------------+--------------------+------------+\n",
      "|          PAYER_NAME|      TOTALCLAIMCOST|AVERAGEPAYERCOVERAGE|TOTAL_CLAIMS|\n",
      "+--------------------+--------------------+--------------------+------------+\n",
      "|            Medicaid|   8948728.260000002|   5921.291505981683|        1421|\n",
      "|Blue Cross Blue S...|  2993246.8300000024|  2371.6637871853504|         874|\n",
      "|            Medicare|2.4497492689999342E7|   1832.712737638881|       10436|\n",
      "|       Dual Eligible|   1535708.230000004|  1641.1073539928357|         839|\n",
      "|    UnitedHealthcare|   2554194.390000001|   4.188739693757364|         849|\n",
      "|              Humana|  3535357.0400000038|  1.8823314065510612|        1038|\n",
      "|               Aetna|  2580679.6500000027|  1.7999887892376691|         892|\n",
      "|        Cigna Health|  2420435.5600000047|  1.2288705583756347|         788|\n",
      "|        NO_INSURANCE|  4.91907004899982E7|                 0.0|        8474|\n",
      "|              Anthem|  2978427.1900000004|                 0.0|         683|\n",
      "+--------------------+--------------------+--------------------+------------+\n",
      "\n"
     ]
    }
   ],
   "source": [
    "#Insurance Analysis\n",
    "pop_insurance = spark.sql(\"SELECT PAYER_NAME, \\\n",
    "                          SUM(TOTAL_CLAIM_COST) AS TOTALCLAIMCOST,\\\n",
    "                          AVG(PAYER_COVERAGE) AS AVERAGEPAYERCOVERAGE,\\\n",
    "                          COUNT(ENCOUNTERCLASS) AS TOTAL_CLAIMS\\\n",
    "                          FROM health \\\n",
    "                          GROUP BY PAYER_NAME \\\n",
    "                          ORDER BY AVERAGEPAYERCOVERAGE DESC\")\n",
    "pop_insurance.show()"
   ]
  },
  {
   "cell_type": "code",
   "execution_count": 16,
   "metadata": {},
   "outputs": [
    {
     "name": "stdout",
     "output_type": "stream",
     "text": [
      "+--------------+----------+-------------------------+---------------+\n",
      "|ENCOUNTERCLASS|OCCURENCES|TOTAL_BASE_ENCOUNTER_COST|TOTAL_BASE_COST|\n",
      "+--------------+----------+-------------------------+---------------+\n",
      "|    ambulatory|     12405|       1313890.6500001978|       30655689|\n",
      "|    outpatient|      6225|        652083.6300000027|       13271097|\n",
      "|    urgentcare|      2337|       333209.45999999775|       19734386|\n",
      "|     emergency|      2267|        329226.6699999877|        4434087|\n",
      "|      wellness|      1931|        264160.7999999907|        2419221|\n",
      "|     inpatient|      1129|       128142.65000000008|        6074229|\n",
      "+--------------+----------+-------------------------+---------------+\n",
      "\n"
     ]
    }
   ],
   "source": [
    "#Common Encounters\n",
    "encount_cases = spark.sql(\"SELECT ENCOUNTERCLASS, \\\n",
    "                          COUNT(ENCOUNTERCLASS) AS OCCURENCES,\\\n",
    "                          SUM(BASE_ENCOUNTER_COST) AS TOTAL_BASE_ENCOUNTER_COST,\\\n",
    "                          SUM(BASE_COST) AS TOTAL_BASE_COST\\\n",
    "                          FROM health \\\n",
    "                          GROUP BY ENCOUNTERCLASS \\\n",
    "                          ORDER BY OCCURENCES DESC\")\n",
    "encount_cases.show()"
   ]
  },
  {
   "cell_type": "code",
   "execution_count": 9,
   "metadata": {},
   "outputs": [
    {
     "data": {
      "text/plain": [
       "<bound method SparkSession.stop of <pyspark.sql.session.SparkSession object at 0x00000148B24F04D0>>"
      ]
     },
     "execution_count": 9,
     "metadata": {},
     "output_type": "execute_result"
    }
   ],
   "source": [
    "spark.stop"
   ]
  },
  {
   "cell_type": "code",
   "execution_count": null,
   "metadata": {},
   "outputs": [],
   "source": []
  }
 ],
 "metadata": {
  "kernelspec": {
   "display_name": ".venv",
   "language": "python",
   "name": "python3"
  },
  "language_info": {
   "codemirror_mode": {
    "name": "ipython",
    "version": 3
   },
   "file_extension": ".py",
   "mimetype": "text/x-python",
   "name": "python",
   "nbconvert_exporter": "python",
   "pygments_lexer": "ipython3",
   "version": "3.11.0"
  }
 },
 "nbformat": 4,
 "nbformat_minor": 2
}
