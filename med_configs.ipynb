{
 "cells": [
  {
   "cell_type": "code",
   "execution_count": null,
   "metadata": {},
   "outputs": [],
   "source": [
    "#Contains links to all the folders in the medallion_architecture folder"
   ]
  },
  {
   "cell_type": "code",
   "execution_count": 1,
   "metadata": {},
   "outputs": [],
   "source": [
    "landing_folder = \"D:\\\\data\\\\Datasets\\\\medallion_architecture\\\\landing_zone\"\n",
    "bronze_folder = \"D:\\\\data\\\\Datasets\\\\medallion_architecture\\\\bronze\"\n",
    "silver_folder = \"D:\\\\data\\\\Datasets\\\\medallion_architecture\\\\silver\"\n",
    "gold_folder = \"D:\\\\data\\\\Datasets\\\\medallion_architecture\\\\gold\""
   ]
  }
 ],
 "metadata": {
  "kernelspec": {
   "display_name": "my_env",
   "language": "python",
   "name": "python3"
  },
  "language_info": {
   "codemirror_mode": {
    "name": "ipython",
    "version": 3
   },
   "file_extension": ".py",
   "mimetype": "text/x-python",
   "name": "python",
   "nbconvert_exporter": "python",
   "pygments_lexer": "ipython3",
   "version": "3.12.0"
  }
 },
 "nbformat": 4,
 "nbformat_minor": 2
}
