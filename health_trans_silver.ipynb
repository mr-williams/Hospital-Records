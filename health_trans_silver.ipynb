{
 "cells": [
  {
   "cell_type": "code",
   "execution_count": 24,
   "metadata": {},
   "outputs": [],
   "source": [
    "from pyspark.sql import SparkSession\n",
    "from pyspark.sql.functions import current_timestamp, col, count, countDistinct, sum, avg, lit, to_timestamp, coalesce\n",
    "from pyspark.sql.types import StructField, StructType, StringType, IntegerType, DoubleType\n",
    "from delta.tables import *\n",
    "from delta import *\n",
    "from delta import configure_spark_with_delta_pip\n"
   ]
  },
  {
   "cell_type": "code",
   "execution_count": 3,
   "metadata": {},
   "outputs": [],
   "source": [
    "builder = SparkSession \\\n",
    "        .builder \\\n",
    "        .appName('healthcare_transformation')\\\n",
    "        .master('local')\\\n",
    "        .config(\"spark.driver.memory\",\"2g\")\\\n",
    "        .config(\"spark.sql.extensions\", \"io.delta.sql.DeltaSparkSessionExtension\")\\\n",
    "        .config(\"spark.sql.catalog.spark_catalog\", \"org.apache.spark.sql.delta.catalog.DeltaCatalog\")\n",
    "\n",
    "spark = configure_spark_with_delta_pip(builder).getOrCreate()"
   ]
  },
  {
   "cell_type": "code",
   "execution_count": null,
   "metadata": {},
   "outputs": [],
   "source": [
    "spark"
   ]
  },
  {
   "cell_type": "code",
   "execution_count": null,
   "metadata": {},
   "outputs": [],
   "source": [
    "bronze_folder = \"bronze\""
   ]
  },
  {
   "cell_type": "code",
   "execution_count": 5,
   "metadata": {},
   "outputs": [],
   "source": [
    "patients = spark.read \\\n",
    "                .format(\"delta\").load(f\"{bronze_folder}\\\\healthcare_delta\\\\patients\")"
   ]
  },
  {
   "cell_type": "code",
   "execution_count": null,
   "metadata": {},
   "outputs": [],
   "source": [
    "patients.printSchema()"
   ]
  },
  {
   "cell_type": "code",
   "execution_count": 7,
   "metadata": {},
   "outputs": [],
   "source": [
    "encounters = spark.read \\\n",
    "                .format(\"delta\").load(f\"{bronze_folder}\\\\healthcare_delta\\\\encounters\") \\\n",
    "                .withColumnRenamed(\"REASONCODE\", \"REASONCODE_EN\") \\\n",
    "                .withColumnRenamed(\"REASONDESCRIPTION\", \"REASONDESCRIPTION_EN\")"
   ]
  },
  {
   "cell_type": "code",
   "execution_count": null,
   "metadata": {},
   "outputs": [],
   "source": [
    "encounters.printSchema()"
   ]
  },
  {
   "cell_type": "code",
   "execution_count": 9,
   "metadata": {},
   "outputs": [],
   "source": [
    "procedure = spark.read \\\n",
    "                .format(\"delta\").load(f\"{bronze_folder}\\\\healthcare_delta\\\\procedure\")"
   ]
  },
  {
   "cell_type": "code",
   "execution_count": null,
   "metadata": {},
   "outputs": [],
   "source": [
    "procedure.printSchema()"
   ]
  },
  {
   "cell_type": "code",
   "execution_count": 11,
   "metadata": {},
   "outputs": [],
   "source": [
    "payers = spark.read \\\n",
    "            .format(\"delta\").load(f\"{bronze_folder}\\\\healthcare_delta\\\\payers\") \\\n",
    "            .withColumnRenamed(\"CITY\", \"PAYER_CITY\")"
   ]
  },
  {
   "cell_type": "code",
   "execution_count": null,
   "metadata": {},
   "outputs": [],
   "source": [
    "payers.printSchema()"
   ]
  },
  {
   "cell_type": "code",
   "execution_count": 13,
   "metadata": {},
   "outputs": [],
   "source": [
    "combined_pe = patients.join(encounters, patients.patients_id == encounters.PATIENT_ID) \\\n",
    "                      .join(procedure, encounters.PATIENT_ID == procedure.PATIENT_ID) \\\n",
    "                      .join(payers, encounters.PAYER == payers.PAYER_ID)\n",
    "                      "
   ]
  },
  {
   "cell_type": "code",
   "execution_count": null,
   "metadata": {},
   "outputs": [],
   "source": [
    "combined_pe.printSchema()"
   ]
  },
  {
   "cell_type": "code",
   "execution_count": 25,
   "metadata": {},
   "outputs": [],
   "source": [
    "final_df = combined_pe.select(\"patients_id\", \"encounters_id\", \"FIRST\", \"LAST\",\"GENDER\", \"CITY\",\"BIRTHDATE\",\"DEATHDATE\",\"ENCOUNTERCLASS\",\"REASONCODE\", \"REASONDESCRIPTION\",\n",
    "                             \"BASE_COST\", \"BASE_ENCOUNTER_COST\", \"TOTAL_CLAIM_COST\", \"PAYER\", \"PAYER_COVERAGE\",\"PAYER_NAME\" \n",
    "                   )\\\n",
    "                   .withColumn(\"INGESTION_DATE\", current_timestamp())\\\n",
    "                   .withColumn(\"MODIFICATION_DATE\", current_timestamp())\\\n",
    "                   .withColumn(\"SOURCE\", lit(\"Kaggle\"))"
   ]
  },
  {
   "cell_type": "code",
   "execution_count": null,
   "metadata": {},
   "outputs": [],
   "source": [
    "final_df.printSchema()"
   ]
  },
  {
   "cell_type": "code",
   "execution_count": 27,
   "metadata": {},
   "outputs": [],
   "source": [
    "final_df_dropped = final_df.dropDuplicates(['encounters_id'])"
   ]
  },
  {
   "cell_type": "code",
   "execution_count": null,
   "metadata": {},
   "outputs": [],
   "source": [
    "final_df_dropped.count()"
   ]
  },
  {
   "cell_type": "code",
   "execution_count": null,
   "metadata": {},
   "outputs": [],
   "source": [
    "final_df_dropped.show()"
   ]
  },
  {
   "cell_type": "code",
   "execution_count": null,
   "metadata": {},
   "outputs": [],
   "source": [
    "try:\n",
    "    final_df_dropped.write.format(\"delta\").mode(\"overwrite\").option(\"overwriteSchema\", \"true\").save(\"silver\\\\healthcare_trans\")\n",
    "    print(\"table created\")\n",
    "except Exception as e:\n",
    "    print(\"Table creation failed\")\n",
    "    print (e)"
   ]
  },
  {
   "cell_type": "code",
   "execution_count": null,
   "metadata": {},
   "outputs": [],
   "source": [
    "spark.stop"
   ]
  },
  {
   "cell_type": "code",
   "execution_count": null,
   "metadata": {},
   "outputs": [],
   "source": []
  }
 ],
 "metadata": {
  "kernelspec": {
   "display_name": ".venv",
   "language": "python",
   "name": "python3"
  },
  "language_info": {
   "codemirror_mode": {
    "name": "ipython",
    "version": 3
   },
   "file_extension": ".py",
   "mimetype": "text/x-python",
   "name": "python",
   "nbconvert_exporter": "python",
   "pygments_lexer": "ipython3",
   "version": "3.11.0"
  }
 },
 "nbformat": 4,
 "nbformat_minor": 2
}
