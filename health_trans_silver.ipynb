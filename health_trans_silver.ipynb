{
 "cells": [
  {
   "cell_type": "code",
   "execution_count": 24,
   "metadata": {},
   "outputs": [],
   "source": [
    "from pyspark.sql import SparkSession\n",
    "from pyspark.sql.functions import current_timestamp, col, count, countDistinct, sum, avg, lit, to_timestamp, coalesce\n",
    "from pyspark.sql.types import StructField, StructType, StringType, IntegerType, DoubleType\n",
    "from delta.tables import *\n",
    "from delta import *\n",
    "from delta import configure_spark_with_delta_pip\n"
   ]
  },
  {
   "cell_type": "code",
   "execution_count": 3,
   "metadata": {},
   "outputs": [],
   "source": [
    "builder = SparkSession \\\n",
    "        .builder \\\n",
    "        .appName('healthcare_transformation')\\\n",
    "        .master('local')\\\n",
    "        .config(\"spark.driver.memory\",\"2g\")\\\n",
    "        .config(\"spark.sql.extensions\", \"io.delta.sql.DeltaSparkSessionExtension\")\\\n",
    "        .config(\"spark.sql.catalog.spark_catalog\", \"org.apache.spark.sql.delta.catalog.DeltaCatalog\")\n",
    "\n",
    "spark = configure_spark_with_delta_pip(builder).getOrCreate()"
   ]
  },
  {
   "cell_type": "code",
   "execution_count": 4,
   "metadata": {},
   "outputs": [
    {
     "data": {
      "text/html": [
       "\n",
       "            <div>\n",
       "                <p><b>SparkSession - in-memory</b></p>\n",
       "                \n",
       "        <div>\n",
       "            <p><b>SparkContext</b></p>\n",
       "\n",
       "            <p><a href=\"http://LAPTOP-HVRT9FOB:4040\">Spark UI</a></p>\n",
       "\n",
       "            <dl>\n",
       "              <dt>Version</dt>\n",
       "                <dd><code>v3.5.4</code></dd>\n",
       "              <dt>Master</dt>\n",
       "                <dd><code>local</code></dd>\n",
       "              <dt>AppName</dt>\n",
       "                <dd><code>healthcare_transformation</code></dd>\n",
       "            </dl>\n",
       "        </div>\n",
       "        \n",
       "            </div>\n",
       "        "
      ],
      "text/plain": [
       "<pyspark.sql.session.SparkSession at 0x1f33a2f06d0>"
      ]
     },
     "execution_count": 4,
     "metadata": {},
     "output_type": "execute_result"
    }
   ],
   "source": [
    "spark"
   ]
  },
  {
   "cell_type": "code",
   "execution_count": null,
   "metadata": {},
   "outputs": [],
   "source": [
    "bronze_folder = \"bronze\""
   ]
  },
  {
   "cell_type": "code",
   "execution_count": 5,
   "metadata": {},
   "outputs": [],
   "source": [
    "patients = spark.read \\\n",
    "                .format(\"delta\").load(f\"{bronze_folder}\\\\healthcare_delta\\\\patients\")"
   ]
  },
  {
   "cell_type": "code",
   "execution_count": 6,
   "metadata": {},
   "outputs": [
    {
     "name": "stdout",
     "output_type": "stream",
     "text": [
      "root\n",
      " |-- patients_id: string (nullable = true)\n",
      " |-- BIRTHDATE: date (nullable = true)\n",
      " |-- DEATHDATE: date (nullable = true)\n",
      " |-- PREFIX: string (nullable = true)\n",
      " |-- FIRST: string (nullable = true)\n",
      " |-- LAST: string (nullable = true)\n",
      " |-- SUFFIX: string (nullable = true)\n",
      " |-- MAIDEN: string (nullable = true)\n",
      " |-- MARITAL: string (nullable = true)\n",
      " |-- RACE: string (nullable = true)\n",
      " |-- ETHNICITY: string (nullable = true)\n",
      " |-- GENDER: string (nullable = true)\n",
      " |-- BIRTHPLACE: string (nullable = true)\n",
      " |-- ADDRESS: string (nullable = true)\n",
      " |-- CITY: string (nullable = true)\n",
      " |-- STATE: string (nullable = true)\n",
      " |-- COUNTY: string (nullable = true)\n",
      " |-- ZIP: integer (nullable = true)\n",
      " |-- LAT: double (nullable = true)\n",
      " |-- LON: double (nullable = true)\n",
      "\n"
     ]
    }
   ],
   "source": [
    "patients.printSchema()"
   ]
  },
  {
   "cell_type": "code",
   "execution_count": 7,
   "metadata": {},
   "outputs": [],
   "source": [
    "encounters = spark.read \\\n",
    "                .format(\"delta\").load(f\"{bronze_folder}\\\\healthcare_delta\\\\encounters\") \\\n",
    "                .withColumnRenamed(\"REASONCODE\", \"REASONCODE_EN\") \\\n",
    "                .withColumnRenamed(\"REASONDESCRIPTION\", \"REASONDESCRIPTION_EN\")"
   ]
  },
  {
   "cell_type": "code",
   "execution_count": 8,
   "metadata": {},
   "outputs": [
    {
     "name": "stdout",
     "output_type": "stream",
     "text": [
      "root\n",
      " |-- encounters_id: string (nullable = true)\n",
      " |-- START: timestamp (nullable = true)\n",
      " |-- STOP: timestamp (nullable = true)\n",
      " |-- PATIENT_ID: string (nullable = true)\n",
      " |-- ORGANIZATION: string (nullable = true)\n",
      " |-- PAYER: string (nullable = true)\n",
      " |-- ENCOUNTERCLASS: string (nullable = true)\n",
      " |-- CODE: integer (nullable = true)\n",
      " |-- DESCRIPTION: string (nullable = true)\n",
      " |-- BASE_ENCOUNTER_COST: double (nullable = true)\n",
      " |-- TOTAL_CLAIM_COST: double (nullable = true)\n",
      " |-- PAYER_COVERAGE: double (nullable = true)\n",
      " |-- REASONCODE_EN: long (nullable = true)\n",
      " |-- REASONDESCRIPTION_EN: string (nullable = true)\n",
      "\n"
     ]
    }
   ],
   "source": [
    "encounters.printSchema()"
   ]
  },
  {
   "cell_type": "code",
   "execution_count": 9,
   "metadata": {},
   "outputs": [],
   "source": [
    "procedure = spark.read \\\n",
    "                .format(\"delta\").load(f\"{bronze_folder}\\\\healthcare_delta\\\\procedure\")"
   ]
  },
  {
   "cell_type": "code",
   "execution_count": 10,
   "metadata": {},
   "outputs": [
    {
     "name": "stdout",
     "output_type": "stream",
     "text": [
      "root\n",
      " |-- START: timestamp (nullable = true)\n",
      " |-- STOP: timestamp (nullable = true)\n",
      " |-- PATIENT_ID: string (nullable = true)\n",
      " |-- ENCOUNTER_ID: string (nullable = true)\n",
      " |-- CODE: long (nullable = true)\n",
      " |-- DESCRIPTION: string (nullable = true)\n",
      " |-- BASE_COST: integer (nullable = true)\n",
      " |-- REASONCODE: long (nullable = true)\n",
      " |-- REASONDESCRIPTION: string (nullable = true)\n",
      "\n"
     ]
    }
   ],
   "source": [
    "procedure.printSchema()"
   ]
  },
  {
   "cell_type": "code",
   "execution_count": 11,
   "metadata": {},
   "outputs": [],
   "source": [
    "payers = spark.read \\\n",
    "            .format(\"delta\").load(f\"{bronze_folder}\\\\healthcare_delta\\\\payers\") \\\n",
    "            .withColumnRenamed(\"CITY\", \"PAYER_CITY\")"
   ]
  },
  {
   "cell_type": "code",
   "execution_count": 12,
   "metadata": {},
   "outputs": [
    {
     "name": "stdout",
     "output_type": "stream",
     "text": [
      "root\n",
      " |-- PAYER_ID: string (nullable = true)\n",
      " |-- PAYER_NAME: string (nullable = true)\n",
      " |-- ADDRESS: string (nullable = true)\n",
      " |-- PAYER_CITY: string (nullable = true)\n",
      " |-- STATE_HEADQUARTERED: string (nullable = true)\n",
      " |-- ZIP: integer (nullable = true)\n",
      " |-- PHONE: string (nullable = true)\n",
      "\n"
     ]
    }
   ],
   "source": [
    "payers.printSchema()"
   ]
  },
  {
   "cell_type": "code",
   "execution_count": 13,
   "metadata": {},
   "outputs": [],
   "source": [
    "combined_pe = patients.join(encounters, patients.patients_id == encounters.PATIENT_ID) \\\n",
    "                      .join(procedure, encounters.PATIENT_ID == procedure.PATIENT_ID) \\\n",
    "                      .join(payers, encounters.PAYER == payers.PAYER_ID)\n",
    "                      "
   ]
  },
  {
   "cell_type": "code",
   "execution_count": 14,
   "metadata": {},
   "outputs": [
    {
     "name": "stdout",
     "output_type": "stream",
     "text": [
      "root\n",
      " |-- patients_id: string (nullable = true)\n",
      " |-- BIRTHDATE: date (nullable = true)\n",
      " |-- DEATHDATE: date (nullable = true)\n",
      " |-- PREFIX: string (nullable = true)\n",
      " |-- FIRST: string (nullable = true)\n",
      " |-- LAST: string (nullable = true)\n",
      " |-- SUFFIX: string (nullable = true)\n",
      " |-- MAIDEN: string (nullable = true)\n",
      " |-- MARITAL: string (nullable = true)\n",
      " |-- RACE: string (nullable = true)\n",
      " |-- ETHNICITY: string (nullable = true)\n",
      " |-- GENDER: string (nullable = true)\n",
      " |-- BIRTHPLACE: string (nullable = true)\n",
      " |-- ADDRESS: string (nullable = true)\n",
      " |-- CITY: string (nullable = true)\n",
      " |-- STATE: string (nullable = true)\n",
      " |-- COUNTY: string (nullable = true)\n",
      " |-- ZIP: integer (nullable = true)\n",
      " |-- LAT: double (nullable = true)\n",
      " |-- LON: double (nullable = true)\n",
      " |-- encounters_id: string (nullable = true)\n",
      " |-- START: timestamp (nullable = true)\n",
      " |-- STOP: timestamp (nullable = true)\n",
      " |-- PATIENT_ID: string (nullable = true)\n",
      " |-- ORGANIZATION: string (nullable = true)\n",
      " |-- PAYER: string (nullable = true)\n",
      " |-- ENCOUNTERCLASS: string (nullable = true)\n",
      " |-- CODE: integer (nullable = true)\n",
      " |-- DESCRIPTION: string (nullable = true)\n",
      " |-- BASE_ENCOUNTER_COST: double (nullable = true)\n",
      " |-- TOTAL_CLAIM_COST: double (nullable = true)\n",
      " |-- PAYER_COVERAGE: double (nullable = true)\n",
      " |-- REASONCODE_EN: long (nullable = true)\n",
      " |-- REASONDESCRIPTION_EN: string (nullable = true)\n",
      " |-- START: timestamp (nullable = true)\n",
      " |-- STOP: timestamp (nullable = true)\n",
      " |-- PATIENT_ID: string (nullable = true)\n",
      " |-- ENCOUNTER_ID: string (nullable = true)\n",
      " |-- CODE: long (nullable = true)\n",
      " |-- DESCRIPTION: string (nullable = true)\n",
      " |-- BASE_COST: integer (nullable = true)\n",
      " |-- REASONCODE: long (nullable = true)\n",
      " |-- REASONDESCRIPTION: string (nullable = true)\n",
      " |-- PAYER_ID: string (nullable = true)\n",
      " |-- PAYER_NAME: string (nullable = true)\n",
      " |-- ADDRESS: string (nullable = true)\n",
      " |-- PAYER_CITY: string (nullable = true)\n",
      " |-- STATE_HEADQUARTERED: string (nullable = true)\n",
      " |-- ZIP: integer (nullable = true)\n",
      " |-- PHONE: string (nullable = true)\n",
      "\n"
     ]
    }
   ],
   "source": [
    "combined_pe.printSchema()"
   ]
  },
  {
   "cell_type": "code",
   "execution_count": 25,
   "metadata": {},
   "outputs": [],
   "source": [
    "final_df = combined_pe.select(\"patients_id\", \"encounters_id\", \"FIRST\", \"LAST\",\"GENDER\", \"CITY\",\"BIRTHDATE\",\"DEATHDATE\",\"ENCOUNTERCLASS\",\"REASONCODE\", \"REASONDESCRIPTION\",\n",
    "                             \"BASE_COST\", \"BASE_ENCOUNTER_COST\", \"TOTAL_CLAIM_COST\", \"PAYER\", \"PAYER_COVERAGE\",\"PAYER_NAME\" \n",
    "                   )\\\n",
    "                   .withColumn(\"INGESTION_DATE\", current_timestamp())\\\n",
    "                   .withColumn(\"MODIFICATION_DATE\", current_timestamp())\\\n",
    "                   .withColumn(\"SOURCE\", lit(\"Kaggle\"))"
   ]
  },
  {
   "cell_type": "code",
   "execution_count": 26,
   "metadata": {},
   "outputs": [
    {
     "name": "stdout",
     "output_type": "stream",
     "text": [
      "root\n",
      " |-- patients_id: string (nullable = true)\n",
      " |-- encounters_id: string (nullable = true)\n",
      " |-- FIRST: string (nullable = true)\n",
      " |-- LAST: string (nullable = true)\n",
      " |-- GENDER: string (nullable = true)\n",
      " |-- CITY: string (nullable = true)\n",
      " |-- BIRTHDATE: date (nullable = true)\n",
      " |-- DEATHDATE: date (nullable = true)\n",
      " |-- ENCOUNTERCLASS: string (nullable = true)\n",
      " |-- REASONCODE: long (nullable = true)\n",
      " |-- REASONDESCRIPTION: string (nullable = true)\n",
      " |-- BASE_COST: integer (nullable = true)\n",
      " |-- BASE_ENCOUNTER_COST: double (nullable = true)\n",
      " |-- TOTAL_CLAIM_COST: double (nullable = true)\n",
      " |-- PAYER: string (nullable = true)\n",
      " |-- PAYER_COVERAGE: double (nullable = true)\n",
      " |-- PAYER_NAME: string (nullable = true)\n",
      " |-- INGESTION_DATE: timestamp (nullable = false)\n",
      " |-- MODIFICATION_DATE: timestamp (nullable = false)\n",
      " |-- SOURCE: string (nullable = false)\n",
      "\n"
     ]
    }
   ],
   "source": [
    "final_df.printSchema()"
   ]
  },
  {
   "cell_type": "code",
   "execution_count": 27,
   "metadata": {},
   "outputs": [],
   "source": [
    "final_df_dropped = final_df.dropDuplicates(['encounters_id'])"
   ]
  },
  {
   "cell_type": "code",
   "execution_count": 19,
   "metadata": {},
   "outputs": [
    {
     "data": {
      "text/plain": [
       "26294"
      ]
     },
     "execution_count": 19,
     "metadata": {},
     "output_type": "execute_result"
    }
   ],
   "source": [
    "final_df_dropped.count()"
   ]
  },
  {
   "cell_type": "code",
   "execution_count": 29,
   "metadata": {},
   "outputs": [
    {
     "name": "stdout",
     "output_type": "stream",
     "text": [
      "+--------------------+--------------------+-----------+-------------+------+----------+----------+----------+--------------+----------+--------------------+---------+-------------------+----------------+--------------------+--------------+--------------------+--------------------+--------------------+------+\n",
      "|         patients_id|       encounters_id|      FIRST|         LAST|GENDER|      CITY| BIRTHDATE| DEATHDATE|ENCOUNTERCLASS|REASONCODE|   REASONDESCRIPTION|BASE_COST|BASE_ENCOUNTER_COST|TOTAL_CLAIM_COST|               PAYER|PAYER_COVERAGE|          PAYER_NAME|      INGESTION_DATE|   MODIFICATION_DATE|SOURCE|\n",
      "+--------------------+--------------------+-----------+-------------+------+----------+----------+----------+--------------+----------+--------------------+---------+-------------------+----------------+--------------------+--------------+--------------------+--------------------+--------------------+------+\n",
      "|5e129b38-3d63-369...|0002c38a-54e9-078...|  Jolene291|     Kling921|     F|    Boston|1961-08-06|      NULL|    ambulatory|  68496003|      Polyp of colon|     3737|              85.55|        10224.23|6e2f1a2d-27bd-370...|       6936.92|Blue Cross Blue S...|2025-01-10 13:47:...|2025-01-10 13:47:...|Kaggle|\n",
      "|45b87421-394d-665...|00059b24-6473-ca4...| Marivel862|    Little434|     F|   Chelsea|1956-07-05|      NULL|    outpatient|  68496003|      Polyp of colon|     6419|             142.58|          278.58|6e2f1a2d-27bd-370...|        152.69|Blue Cross Blue S...|2025-01-10 13:47:...|2025-01-10 13:47:...|Kaggle|\n",
      "|1712d26d-822d-1e3...|00091c5b-f3a1-ee7...|Kimberly627|   Collier206|     F|      Hull|1929-06-30|      NULL|    outpatient|      NULL|                NULL|      747|              85.55|           85.55|b1c428d6-4f07-31e...|           0.0|        NO_INSURANCE|2025-01-10 13:47:...|2025-01-10 13:47:...|Kaggle|\n",
      "|41a6be0c-6388-3b2...|00092210-7294-428...|      Yu876|   Keebler762|     F|    Boston|1936-06-26|2021-01-05|    ambulatory|      NULL|                NULL|      431|             142.58|          142.58|b3221cfc-24fb-339...|         40.45|       Dual Eligible|2025-01-10 13:47:...|2025-01-10 13:47:...|Kaggle|\n",
      "|442dc617-c7f2-051...|000cc8f4-f2c7-5cf...|  Marcos263|    Parker433|     M|    Boston|1923-07-24|      NULL|      wellness|      NULL|                NULL|      431|              136.8|         1597.43|7caa7254-5050-3b5...|       1187.02|            Medicare|2025-01-10 13:47:...|2025-01-10 13:47:...|Kaggle|\n",
      "|7b1ef5a5-603f-67a...|00100582-8baf-695...| Salvador46|  Thompson596|     M|Somerville|1971-08-19|      NULL|    outpatient|      NULL|                NULL|      431|             142.58|          278.58|047f6ec3-6215-35e...|           0.0|        Cigna Health|2025-01-10 13:47:...|2025-01-10 13:47:...|Kaggle|\n",
      "|dbc49a8f-0f3d-e9a...|0011d269-53cb-06c...| Bennett146|    Herman763|     M|    Quincy|1966-04-08|      NULL|    ambulatory|      NULL|                NULL|      431|              85.55|          721.47|d47b3510-2895-3b7...|           0.0|              Humana|2025-01-10 13:47:...|2025-01-10 13:47:...|Kaggle|\n",
      "|b2b5f8d2-9ba8-f51...|00122be2-0d9e-15d...|   Horace32|    Cremin516|     M|   Hingham|1922-04-15|      NULL|    outpatient| 230690007|              Stroke|     1217|             142.58|          278.58|7caa7254-5050-3b5...|        190.86|            Medicare|2025-01-10 13:47:...|2025-01-10 13:47:...|Kaggle|\n",
      "|ee0ee532-9104-7e5...|0014aa55-f9f2-e33...| Garfield38|     Block661|     M|    Revere|1943-04-13|2019-03-26|    outpatient|  22298006|Myocardial Infarc...|     1353|              85.55|           312.0|7caa7254-5050-3b5...|        145.84|            Medicare|2025-01-10 13:47:...|2025-01-10 13:47:...|Kaggle|\n",
      "|bb9e2b36-bb5f-eda...|00169f6a-632c-357...|    Lois157|    Beahan375|     F|    Boston|1959-11-28|      NULL|    ambulatory| 254837009|Malignant neoplas...|     8880|              85.55|         4896.82|d47b3510-2895-3b7...|           0.0|              Humana|2025-01-10 13:47:...|2025-01-10 13:47:...|Kaggle|\n",
      "|5427845a-82ab-b6c...|001766e1-ddc3-f59...|   Arica110|McLaughlin530|     F|    Boston|1930-05-20|      NULL|    urgentcare|  49436004| Atrial Fibrillation|    21920|             142.58|          142.58|7caa7254-5050-3b5...|         82.06|            Medicare|2025-01-10 13:47:...|2025-01-10 13:47:...|Kaggle|\n",
      "|91084719-3b53-616...|0019dbc5-e696-144...|    Elli820|     Grady603|     F|    Boston|1980-11-29|      NULL|    ambulatory|  72892002|    Normal pregnancy|      431|             142.58|         1005.38|b1c428d6-4f07-31e...|           0.0|        NO_INSURANCE|2025-01-10 13:47:...|2025-01-10 13:47:...|Kaggle|\n",
      "|9b8ae606-5059-b3a...|0019e261-b804-3b8...|    Song837|    Heaney114|     F|    Boston|1927-04-16|      NULL|     emergency|      NULL|                NULL|     1134|             146.18|          146.18|7caa7254-5050-3b5...|         84.94|            Medicare|2025-01-10 13:47:...|2025-01-10 13:47:...|Kaggle|\n",
      "|929dc38f-b15f-039...|001fb5d9-0c4a-3e8...|    Tiny880|  Schaefer657|     F|    Boston|1981-08-03|      NULL|    ambulatory| 444470001|Injury of anterio...|    16190|             142.58|          573.98|7c4411ce-02f1-39b...|        488.28|            Medicaid|2025-01-10 13:47:...|2025-01-10 13:47:...|Kaggle|\n",
      "|3d17f121-e015-683...|00201473-570f-196...|Magnolia736|     Stark857|     F|    Boston|1985-09-12|      NULL|    ambulatory| 195662009|Acute viral phary...|     2094|              85.55|           85.55|b1c428d6-4f07-31e...|           0.0|        NO_INSURANCE|2025-01-10 13:47:...|2025-01-10 13:47:...|Kaggle|\n",
      "|4cff4d5b-1d38-817...|00206994-c580-da9...|  Bradly656|  Eichmann909|     M|   Medford|1945-12-06|      NULL|    outpatient|      NULL|                NULL|      431|             142.58|          278.58|7caa7254-5050-3b5...|        190.86|            Medicare|2025-01-10 13:47:...|2025-01-10 13:47:...|Kaggle|\n",
      "|5427845a-82ab-b6c...|00240922-2219-9d5...|   Arica110|McLaughlin530|     F|    Boston|1930-05-20|      NULL|    urgentcare|  49436004| Atrial Fibrillation|    21920|             142.58|        38426.45|7caa7254-5050-3b5...|      30709.16|            Medicare|2025-01-10 13:47:...|2025-01-10 13:47:...|Kaggle|\n",
      "|1712d26d-822d-1e3...|0024384c-8b5a-036...|Kimberly627|   Collier206|     F|      Hull|1929-06-30|      NULL|    ambulatory|      NULL|                NULL|      747|              85.55|         1297.09|b1c428d6-4f07-31e...|           0.0|        NO_INSURANCE|2025-01-10 13:47:...|2025-01-10 13:47:...|Kaggle|\n",
      "|a8d4b669-31b0-dbf...|0025aa3e-79ad-23a...|    Mack300|      Yost751|     M|    Boston|1940-04-01|      NULL|    outpatient|      NULL|                NULL|      431|              85.55|           85.55|7caa7254-5050-3b5...|         36.44|            Medicare|2025-01-10 13:47:...|2025-01-10 13:47:...|Kaggle|\n",
      "|4ccb1d0f-6861-58a...|00262cfb-5257-81e...|  Maynard46|  O'Reilly797|     M|    Boston|1927-11-04|      NULL|     emergency| 230690007|              Stroke|      900|             146.18|        24733.14|7caa7254-5050-3b5...|      19708.54|            Medicare|2025-01-10 13:47:...|2025-01-10 13:47:...|Kaggle|\n",
      "+--------------------+--------------------+-----------+-------------+------+----------+----------+----------+--------------+----------+--------------------+---------+-------------------+----------------+--------------------+--------------+--------------------+--------------------+--------------------+------+\n",
      "only showing top 20 rows\n",
      "\n"
     ]
    }
   ],
   "source": [
    "final_df_dropped.show()"
   ]
  },
  {
   "cell_type": "code",
   "execution_count": 30,
   "metadata": {},
   "outputs": [
    {
     "name": "stdout",
     "output_type": "stream",
     "text": [
      "table created\n"
     ]
    }
   ],
   "source": [
    "try:\n",
    "    final_df_dropped.write.format(\"delta\").mode(\"overwrite\").option(\"overwriteSchema\", \"true\").save(\"silver\\\\healthcare_trans\")\n",
    "    print(\"table created\")\n",
    "except Exception as e:\n",
    "    print(\"Table creation failed\")\n",
    "    print (e)"
   ]
  },
  {
   "cell_type": "code",
   "execution_count": 31,
   "metadata": {},
   "outputs": [
    {
     "data": {
      "text/plain": [
       "<bound method SparkSession.stop of <pyspark.sql.session.SparkSession object at 0x000001F33A2F06D0>>"
      ]
     },
     "execution_count": 31,
     "metadata": {},
     "output_type": "execute_result"
    }
   ],
   "source": [
    "spark.stop"
   ]
  },
  {
   "cell_type": "code",
   "execution_count": null,
   "metadata": {},
   "outputs": [],
   "source": []
  }
 ],
 "metadata": {
  "kernelspec": {
   "display_name": ".venv",
   "language": "python",
   "name": "python3"
  },
  "language_info": {
   "codemirror_mode": {
    "name": "ipython",
    "version": 3
   },
   "file_extension": ".py",
   "mimetype": "text/x-python",
   "name": "python",
   "nbconvert_exporter": "python",
   "pygments_lexer": "ipython3",
   "version": "3.11.0"
  }
 },
 "nbformat": 4,
 "nbformat_minor": 2
}
